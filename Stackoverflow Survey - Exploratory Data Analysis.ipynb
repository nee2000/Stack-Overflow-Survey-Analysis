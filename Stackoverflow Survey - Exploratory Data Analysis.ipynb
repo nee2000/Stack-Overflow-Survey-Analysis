{
 "cells": [
  {
   "cell_type": "markdown",
   "id": "344e38da",
   "metadata": {},
   "source": [
    "# Survey Analysis\n",
    " "
   ]
  },
  {
   "cell_type": "markdown",
   "id": "59b7c891",
   "metadata": {},
   "source": [
    "**Dataset Info:** Stack Overflow, a popular website for developers, conducted an online survey of software professionals across the world. The survey data was later open sourced by Stack Overflow. This randomised subset contains around 1/10th of the original data set."
   ]
  },
  {
   "cell_type": "code",
   "execution_count": 1,
   "id": "c868892d",
   "metadata": {},
   "outputs": [],
   "source": [
    "#import the required libraries\n",
    "import numpy as np \n",
    "import pandas as pd \n",
    "import seaborn as sns \n",
    "import matplotlib.ticker as mtick  \n",
    "import matplotlib.pyplot as plt\n",
    "%matplotlib inline"
   ]
  },
  {
   "cell_type": "markdown",
   "id": "45441f68",
   "metadata": {},
   "source": [
    "**Load the data file**"
   ]
  },
  {
   "cell_type": "code",
   "execution_count": 2,
   "id": "3b0ba6b2",
   "metadata": {},
   "outputs": [],
   "source": [
    "df_base=pd.read_csv(r\"C:\\Users\\neera\\Desktop\\m1_survey_data.csv\")"
   ]
  },
  {
   "cell_type": "code",
   "execution_count": 3,
   "id": "49c7d87b",
   "metadata": {},
   "outputs": [
    {
     "data": {
      "text/html": [
       "<div>\n",
       "<style scoped>\n",
       "    .dataframe tbody tr th:only-of-type {\n",
       "        vertical-align: middle;\n",
       "    }\n",
       "\n",
       "    .dataframe tbody tr th {\n",
       "        vertical-align: top;\n",
       "    }\n",
       "\n",
       "    .dataframe thead th {\n",
       "        text-align: right;\n",
       "    }\n",
       "</style>\n",
       "<table border=\"1\" class=\"dataframe\">\n",
       "  <thead>\n",
       "    <tr style=\"text-align: right;\">\n",
       "      <th></th>\n",
       "      <th>Respondent</th>\n",
       "      <th>MainBranch</th>\n",
       "      <th>Hobbyist</th>\n",
       "      <th>OpenSourcer</th>\n",
       "      <th>OpenSource</th>\n",
       "      <th>Employment</th>\n",
       "      <th>Country</th>\n",
       "      <th>Student</th>\n",
       "      <th>EdLevel</th>\n",
       "      <th>UndergradMajor</th>\n",
       "      <th>...</th>\n",
       "      <th>WelcomeChange</th>\n",
       "      <th>SONewContent</th>\n",
       "      <th>Age</th>\n",
       "      <th>Gender</th>\n",
       "      <th>Trans</th>\n",
       "      <th>Sexuality</th>\n",
       "      <th>Ethnicity</th>\n",
       "      <th>Dependents</th>\n",
       "      <th>SurveyLength</th>\n",
       "      <th>SurveyEase</th>\n",
       "    </tr>\n",
       "  </thead>\n",
       "  <tbody>\n",
       "    <tr>\n",
       "      <th>0</th>\n",
       "      <td>4</td>\n",
       "      <td>I am a developer by profession</td>\n",
       "      <td>No</td>\n",
       "      <td>Never</td>\n",
       "      <td>The quality of OSS and closed source software ...</td>\n",
       "      <td>Employed full-time</td>\n",
       "      <td>United States</td>\n",
       "      <td>No</td>\n",
       "      <td>Bachelor’s degree (BA, BS, B.Eng., etc.)</td>\n",
       "      <td>Computer science, computer engineering, or sof...</td>\n",
       "      <td>...</td>\n",
       "      <td>Just as welcome now as I felt last year</td>\n",
       "      <td>Tech articles written by other developers;Indu...</td>\n",
       "      <td>22.0</td>\n",
       "      <td>Man</td>\n",
       "      <td>No</td>\n",
       "      <td>Straight / Heterosexual</td>\n",
       "      <td>White or of European descent</td>\n",
       "      <td>No</td>\n",
       "      <td>Appropriate in length</td>\n",
       "      <td>Easy</td>\n",
       "    </tr>\n",
       "    <tr>\n",
       "      <th>1</th>\n",
       "      <td>9</td>\n",
       "      <td>I am a developer by profession</td>\n",
       "      <td>Yes</td>\n",
       "      <td>Once a month or more often</td>\n",
       "      <td>The quality of OSS and closed source software ...</td>\n",
       "      <td>Employed full-time</td>\n",
       "      <td>New Zealand</td>\n",
       "      <td>No</td>\n",
       "      <td>Some college/university study without earning ...</td>\n",
       "      <td>Computer science, computer engineering, or sof...</td>\n",
       "      <td>...</td>\n",
       "      <td>Just as welcome now as I felt last year</td>\n",
       "      <td>NaN</td>\n",
       "      <td>23.0</td>\n",
       "      <td>Man</td>\n",
       "      <td>No</td>\n",
       "      <td>Bisexual</td>\n",
       "      <td>White or of European descent</td>\n",
       "      <td>No</td>\n",
       "      <td>Appropriate in length</td>\n",
       "      <td>Neither easy nor difficult</td>\n",
       "    </tr>\n",
       "    <tr>\n",
       "      <th>2</th>\n",
       "      <td>13</td>\n",
       "      <td>I am a developer by profession</td>\n",
       "      <td>Yes</td>\n",
       "      <td>Less than once a month but more than once per ...</td>\n",
       "      <td>OSS is, on average, of HIGHER quality than pro...</td>\n",
       "      <td>Employed full-time</td>\n",
       "      <td>United States</td>\n",
       "      <td>No</td>\n",
       "      <td>Master’s degree (MA, MS, M.Eng., MBA, etc.)</td>\n",
       "      <td>Computer science, computer engineering, or sof...</td>\n",
       "      <td>...</td>\n",
       "      <td>Somewhat more welcome now than last year</td>\n",
       "      <td>Tech articles written by other developers;Cour...</td>\n",
       "      <td>28.0</td>\n",
       "      <td>Man</td>\n",
       "      <td>No</td>\n",
       "      <td>Straight / Heterosexual</td>\n",
       "      <td>White or of European descent</td>\n",
       "      <td>Yes</td>\n",
       "      <td>Appropriate in length</td>\n",
       "      <td>Easy</td>\n",
       "    </tr>\n",
       "    <tr>\n",
       "      <th>3</th>\n",
       "      <td>16</td>\n",
       "      <td>I am a developer by profession</td>\n",
       "      <td>Yes</td>\n",
       "      <td>Never</td>\n",
       "      <td>The quality of OSS and closed source software ...</td>\n",
       "      <td>Employed full-time</td>\n",
       "      <td>United Kingdom</td>\n",
       "      <td>No</td>\n",
       "      <td>Master’s degree (MA, MS, M.Eng., MBA, etc.)</td>\n",
       "      <td>NaN</td>\n",
       "      <td>...</td>\n",
       "      <td>Just as welcome now as I felt last year</td>\n",
       "      <td>Tech articles written by other developers;Indu...</td>\n",
       "      <td>26.0</td>\n",
       "      <td>Man</td>\n",
       "      <td>No</td>\n",
       "      <td>Straight / Heterosexual</td>\n",
       "      <td>White or of European descent</td>\n",
       "      <td>No</td>\n",
       "      <td>Appropriate in length</td>\n",
       "      <td>Neither easy nor difficult</td>\n",
       "    </tr>\n",
       "    <tr>\n",
       "      <th>4</th>\n",
       "      <td>17</td>\n",
       "      <td>I am a developer by profession</td>\n",
       "      <td>Yes</td>\n",
       "      <td>Less than once a month but more than once per ...</td>\n",
       "      <td>The quality of OSS and closed source software ...</td>\n",
       "      <td>Employed full-time</td>\n",
       "      <td>Australia</td>\n",
       "      <td>No</td>\n",
       "      <td>Bachelor’s degree (BA, BS, B.Eng., etc.)</td>\n",
       "      <td>Computer science, computer engineering, or sof...</td>\n",
       "      <td>...</td>\n",
       "      <td>Just as welcome now as I felt last year</td>\n",
       "      <td>Tech articles written by other developers;Indu...</td>\n",
       "      <td>29.0</td>\n",
       "      <td>Man</td>\n",
       "      <td>No</td>\n",
       "      <td>Straight / Heterosexual</td>\n",
       "      <td>Hispanic or Latino/Latina;Multiracial</td>\n",
       "      <td>No</td>\n",
       "      <td>Appropriate in length</td>\n",
       "      <td>Easy</td>\n",
       "    </tr>\n",
       "  </tbody>\n",
       "</table>\n",
       "<p>5 rows × 85 columns</p>\n",
       "</div>"
      ],
      "text/plain": [
       "   Respondent                      MainBranch Hobbyist  \\\n",
       "0           4  I am a developer by profession       No   \n",
       "1           9  I am a developer by profession      Yes   \n",
       "2          13  I am a developer by profession      Yes   \n",
       "3          16  I am a developer by profession      Yes   \n",
       "4          17  I am a developer by profession      Yes   \n",
       "\n",
       "                                         OpenSourcer  \\\n",
       "0                                              Never   \n",
       "1                         Once a month or more often   \n",
       "2  Less than once a month but more than once per ...   \n",
       "3                                              Never   \n",
       "4  Less than once a month but more than once per ...   \n",
       "\n",
       "                                          OpenSource          Employment  \\\n",
       "0  The quality of OSS and closed source software ...  Employed full-time   \n",
       "1  The quality of OSS and closed source software ...  Employed full-time   \n",
       "2  OSS is, on average, of HIGHER quality than pro...  Employed full-time   \n",
       "3  The quality of OSS and closed source software ...  Employed full-time   \n",
       "4  The quality of OSS and closed source software ...  Employed full-time   \n",
       "\n",
       "          Country Student                                            EdLevel  \\\n",
       "0   United States      No           Bachelor’s degree (BA, BS, B.Eng., etc.)   \n",
       "1     New Zealand      No  Some college/university study without earning ...   \n",
       "2   United States      No        Master’s degree (MA, MS, M.Eng., MBA, etc.)   \n",
       "3  United Kingdom      No        Master’s degree (MA, MS, M.Eng., MBA, etc.)   \n",
       "4       Australia      No           Bachelor’s degree (BA, BS, B.Eng., etc.)   \n",
       "\n",
       "                                      UndergradMajor  ...  \\\n",
       "0  Computer science, computer engineering, or sof...  ...   \n",
       "1  Computer science, computer engineering, or sof...  ...   \n",
       "2  Computer science, computer engineering, or sof...  ...   \n",
       "3                                                NaN  ...   \n",
       "4  Computer science, computer engineering, or sof...  ...   \n",
       "\n",
       "                              WelcomeChange  \\\n",
       "0   Just as welcome now as I felt last year   \n",
       "1   Just as welcome now as I felt last year   \n",
       "2  Somewhat more welcome now than last year   \n",
       "3   Just as welcome now as I felt last year   \n",
       "4   Just as welcome now as I felt last year   \n",
       "\n",
       "                                        SONewContent   Age Gender Trans  \\\n",
       "0  Tech articles written by other developers;Indu...  22.0    Man    No   \n",
       "1                                                NaN  23.0    Man    No   \n",
       "2  Tech articles written by other developers;Cour...  28.0    Man    No   \n",
       "3  Tech articles written by other developers;Indu...  26.0    Man    No   \n",
       "4  Tech articles written by other developers;Indu...  29.0    Man    No   \n",
       "\n",
       "                 Sexuality                              Ethnicity Dependents  \\\n",
       "0  Straight / Heterosexual           White or of European descent         No   \n",
       "1                 Bisexual           White or of European descent         No   \n",
       "2  Straight / Heterosexual           White or of European descent        Yes   \n",
       "3  Straight / Heterosexual           White or of European descent         No   \n",
       "4  Straight / Heterosexual  Hispanic or Latino/Latina;Multiracial         No   \n",
       "\n",
       "            SurveyLength                  SurveyEase  \n",
       "0  Appropriate in length                        Easy  \n",
       "1  Appropriate in length  Neither easy nor difficult  \n",
       "2  Appropriate in length                        Easy  \n",
       "3  Appropriate in length  Neither easy nor difficult  \n",
       "4  Appropriate in length                        Easy  \n",
       "\n",
       "[5 rows x 85 columns]"
      ]
     },
     "execution_count": 3,
     "metadata": {},
     "output_type": "execute_result"
    }
   ],
   "source": [
    "df_base.head()"
   ]
  },
  {
   "cell_type": "code",
   "execution_count": 4,
   "id": "ac7ff391",
   "metadata": {},
   "outputs": [],
   "source": [
    "pd.set_option('display.max_rows', 120)"
   ]
  },
  {
   "cell_type": "code",
   "execution_count": 5,
   "id": "fc21fb97",
   "metadata": {},
   "outputs": [
    {
     "data": {
      "text/plain": [
       "Respondent                  int64\n",
       "MainBranch                 object\n",
       "Hobbyist                   object\n",
       "OpenSourcer                object\n",
       "OpenSource                 object\n",
       "Employment                 object\n",
       "Country                    object\n",
       "Student                    object\n",
       "EdLevel                    object\n",
       "UndergradMajor             object\n",
       "EduOther                   object\n",
       "OrgSize                    object\n",
       "DevType                    object\n",
       "YearsCode                  object\n",
       "Age1stCode                 object\n",
       "YearsCodePro               object\n",
       "CareerSat                  object\n",
       "JobSat                     object\n",
       "MgrIdiot                   object\n",
       "MgrMoney                   object\n",
       "MgrWant                    object\n",
       "JobSeek                    object\n",
       "LastHireDate               object\n",
       "LastInt                    object\n",
       "FizzBuzz                   object\n",
       "JobFactors                 object\n",
       "ResumeUpdate               object\n",
       "CurrencySymbol             object\n",
       "CurrencyDesc               object\n",
       "CompTotal                 float64\n",
       "CompFreq                   object\n",
       "ConvertedComp             float64\n",
       "WorkWeekHrs               float64\n",
       "WorkPlan                   object\n",
       "WorkChallenge              object\n",
       "WorkRemote                 object\n",
       "WorkLoc                    object\n",
       "ImpSyn                     object\n",
       "CodeRev                    object\n",
       "CodeRevHrs                float64\n",
       "UnitTests                  object\n",
       "PurchaseHow                object\n",
       "PurchaseWhat               object\n",
       "LanguageWorkedWith         object\n",
       "LanguageDesireNextYear     object\n",
       "DatabaseWorkedWith         object\n",
       "DatabaseDesireNextYear     object\n",
       "PlatformWorkedWith         object\n",
       "PlatformDesireNextYear     object\n",
       "WebFrameWorkedWith         object\n",
       "WebFrameDesireNextYear     object\n",
       "MiscTechWorkedWith         object\n",
       "MiscTechDesireNextYear     object\n",
       "DevEnviron                 object\n",
       "OpSys                      object\n",
       "Containers                 object\n",
       "BlockchainOrg              object\n",
       "BlockchainIs               object\n",
       "BetterLife                 object\n",
       "ITperson                   object\n",
       "OffOn                      object\n",
       "SocialMedia                object\n",
       "Extraversion               object\n",
       "ScreenName                 object\n",
       "SOVisit1st                 object\n",
       "SOVisitFreq                object\n",
       "SOVisitTo                  object\n",
       "SOFindAnswer               object\n",
       "SOTimeSaved                object\n",
       "SOHowMuchTime              object\n",
       "SOAccount                  object\n",
       "SOPartFreq                 object\n",
       "SOJobs                     object\n",
       "EntTeams                   object\n",
       "SOComm                     object\n",
       "WelcomeChange              object\n",
       "SONewContent               object\n",
       "Age                       float64\n",
       "Gender                     object\n",
       "Trans                      object\n",
       "Sexuality                  object\n",
       "Ethnicity                  object\n",
       "Dependents                 object\n",
       "SurveyLength               object\n",
       "SurveyEase                 object\n",
       "dtype: object"
      ]
     },
     "execution_count": 5,
     "metadata": {},
     "output_type": "execute_result"
    }
   ],
   "source": [
    "# Checking the data types of all the columns\n",
    "df_base.dtypes"
   ]
  },
  {
   "cell_type": "markdown",
   "id": "0bb10dba",
   "metadata": {},
   "source": [
    "## Data Wrangling\n",
    " "
   ]
  },
  {
   "cell_type": "markdown",
   "id": "6698dfb7",
   "metadata": {},
   "source": [
    "### Finding duplicates"
   ]
  },
  {
   "cell_type": "code",
   "execution_count": 6,
   "id": "80428e1b",
   "metadata": {
    "scrolled": true
   },
   "outputs": [
    {
     "data": {
      "text/html": [
       "<div>\n",
       "<style scoped>\n",
       "    .dataframe tbody tr th:only-of-type {\n",
       "        vertical-align: middle;\n",
       "    }\n",
       "\n",
       "    .dataframe tbody tr th {\n",
       "        vertical-align: top;\n",
       "    }\n",
       "\n",
       "    .dataframe thead th {\n",
       "        text-align: right;\n",
       "    }\n",
       "</style>\n",
       "<table border=\"1\" class=\"dataframe\">\n",
       "  <thead>\n",
       "    <tr style=\"text-align: right;\">\n",
       "      <th></th>\n",
       "      <th>Respondent</th>\n",
       "      <th>MainBranch</th>\n",
       "      <th>Hobbyist</th>\n",
       "      <th>OpenSourcer</th>\n",
       "      <th>OpenSource</th>\n",
       "      <th>Employment</th>\n",
       "      <th>Country</th>\n",
       "      <th>Student</th>\n",
       "      <th>EdLevel</th>\n",
       "      <th>UndergradMajor</th>\n",
       "      <th>...</th>\n",
       "      <th>WelcomeChange</th>\n",
       "      <th>SONewContent</th>\n",
       "      <th>Age</th>\n",
       "      <th>Gender</th>\n",
       "      <th>Trans</th>\n",
       "      <th>Sexuality</th>\n",
       "      <th>Ethnicity</th>\n",
       "      <th>Dependents</th>\n",
       "      <th>SurveyLength</th>\n",
       "      <th>SurveyEase</th>\n",
       "    </tr>\n",
       "  </thead>\n",
       "  <tbody>\n",
       "    <tr>\n",
       "      <th>1168</th>\n",
       "      <td>2339</td>\n",
       "      <td>I am a developer by profession</td>\n",
       "      <td>Yes</td>\n",
       "      <td>Once a month or more often</td>\n",
       "      <td>OSS is, on average, of HIGHER quality than pro...</td>\n",
       "      <td>Employed full-time</td>\n",
       "      <td>United States</td>\n",
       "      <td>No</td>\n",
       "      <td>Some college/university study without earning ...</td>\n",
       "      <td>Computer science, computer engineering, or sof...</td>\n",
       "      <td>...</td>\n",
       "      <td>Just as welcome now as I felt last year</td>\n",
       "      <td>NaN</td>\n",
       "      <td>24.0</td>\n",
       "      <td>Man</td>\n",
       "      <td>No</td>\n",
       "      <td>Straight / Heterosexual</td>\n",
       "      <td>White or of European descent</td>\n",
       "      <td>No</td>\n",
       "      <td>Appropriate in length</td>\n",
       "      <td>Easy</td>\n",
       "    </tr>\n",
       "    <tr>\n",
       "      <th>1169</th>\n",
       "      <td>2342</td>\n",
       "      <td>I am a developer by profession</td>\n",
       "      <td>Yes</td>\n",
       "      <td>Never</td>\n",
       "      <td>The quality of OSS and closed source software ...</td>\n",
       "      <td>Employed full-time</td>\n",
       "      <td>United Kingdom</td>\n",
       "      <td>No</td>\n",
       "      <td>Some college/university study without earning ...</td>\n",
       "      <td>Information systems, information technology, o...</td>\n",
       "      <td>...</td>\n",
       "      <td>Somewhat more welcome now than last year</td>\n",
       "      <td>Tech meetups or events in your area;Courses on...</td>\n",
       "      <td>24.0</td>\n",
       "      <td>Man</td>\n",
       "      <td>No</td>\n",
       "      <td>Straight / Heterosexual</td>\n",
       "      <td>White or of European descent</td>\n",
       "      <td>No</td>\n",
       "      <td>Too long</td>\n",
       "      <td>Easy</td>\n",
       "    </tr>\n",
       "    <tr>\n",
       "      <th>1170</th>\n",
       "      <td>2343</td>\n",
       "      <td>I am a developer by profession</td>\n",
       "      <td>Yes</td>\n",
       "      <td>Less than once a month but more than once per ...</td>\n",
       "      <td>OSS is, on average, of LOWER quality than prop...</td>\n",
       "      <td>Employed full-time</td>\n",
       "      <td>Canada</td>\n",
       "      <td>No</td>\n",
       "      <td>Master’s degree (MA, MS, M.Eng., MBA, etc.)</td>\n",
       "      <td>Computer science, computer engineering, or sof...</td>\n",
       "      <td>...</td>\n",
       "      <td>Somewhat more welcome now than last year</td>\n",
       "      <td>Tech articles written by other developers;Indu...</td>\n",
       "      <td>27.0</td>\n",
       "      <td>Man</td>\n",
       "      <td>No</td>\n",
       "      <td>Straight / Heterosexual</td>\n",
       "      <td>Black or of African descent;White or of Europe...</td>\n",
       "      <td>No</td>\n",
       "      <td>Appropriate in length</td>\n",
       "      <td>Neither easy nor difficult</td>\n",
       "    </tr>\n",
       "    <tr>\n",
       "      <th>1171</th>\n",
       "      <td>2344</td>\n",
       "      <td>I am a developer by profession</td>\n",
       "      <td>Yes</td>\n",
       "      <td>Never</td>\n",
       "      <td>The quality of OSS and closed source software ...</td>\n",
       "      <td>Employed full-time</td>\n",
       "      <td>United States</td>\n",
       "      <td>No</td>\n",
       "      <td>Bachelor’s degree (BA, BS, B.Eng., etc.)</td>\n",
       "      <td>Computer science, computer engineering, or sof...</td>\n",
       "      <td>...</td>\n",
       "      <td>Just as welcome now as I felt last year</td>\n",
       "      <td>Tech articles written by other developers;Indu...</td>\n",
       "      <td>24.0</td>\n",
       "      <td>Man</td>\n",
       "      <td>No</td>\n",
       "      <td>Straight / Heterosexual</td>\n",
       "      <td>White or of European descent</td>\n",
       "      <td>No</td>\n",
       "      <td>Appropriate in length</td>\n",
       "      <td>Easy</td>\n",
       "    </tr>\n",
       "    <tr>\n",
       "      <th>1172</th>\n",
       "      <td>2347</td>\n",
       "      <td>I am a developer by profession</td>\n",
       "      <td>Yes</td>\n",
       "      <td>Never</td>\n",
       "      <td>OSS is, on average, of HIGHER quality than pro...</td>\n",
       "      <td>Employed full-time</td>\n",
       "      <td>United Kingdom</td>\n",
       "      <td>No</td>\n",
       "      <td>Master’s degree (MA, MS, M.Eng., MBA, etc.)</td>\n",
       "      <td>Computer science, computer engineering, or sof...</td>\n",
       "      <td>...</td>\n",
       "      <td>Just as welcome now as I felt last year</td>\n",
       "      <td>NaN</td>\n",
       "      <td>NaN</td>\n",
       "      <td>Woman</td>\n",
       "      <td>No</td>\n",
       "      <td>Straight / Heterosexual</td>\n",
       "      <td>Biracial</td>\n",
       "      <td>No</td>\n",
       "      <td>Too long</td>\n",
       "      <td>Easy</td>\n",
       "    </tr>\n",
       "    <tr>\n",
       "      <th>...</th>\n",
       "      <td>...</td>\n",
       "      <td>...</td>\n",
       "      <td>...</td>\n",
       "      <td>...</td>\n",
       "      <td>...</td>\n",
       "      <td>...</td>\n",
       "      <td>...</td>\n",
       "      <td>...</td>\n",
       "      <td>...</td>\n",
       "      <td>...</td>\n",
       "      <td>...</td>\n",
       "      <td>...</td>\n",
       "      <td>...</td>\n",
       "      <td>...</td>\n",
       "      <td>...</td>\n",
       "      <td>...</td>\n",
       "      <td>...</td>\n",
       "      <td>...</td>\n",
       "      <td>...</td>\n",
       "      <td>...</td>\n",
       "      <td>...</td>\n",
       "    </tr>\n",
       "    <tr>\n",
       "      <th>2297</th>\n",
       "      <td>4674</td>\n",
       "      <td>I am not primarily a developer, but I write co...</td>\n",
       "      <td>Yes</td>\n",
       "      <td>Less than once per year</td>\n",
       "      <td>The quality of OSS and closed source software ...</td>\n",
       "      <td>Employed full-time</td>\n",
       "      <td>Bangladesh</td>\n",
       "      <td>No</td>\n",
       "      <td>Bachelor’s degree (BA, BS, B.Eng., etc.)</td>\n",
       "      <td>NaN</td>\n",
       "      <td>...</td>\n",
       "      <td>Somewhat less welcome now than last year</td>\n",
       "      <td>Tech articles written by other developers;Indu...</td>\n",
       "      <td>31.0</td>\n",
       "      <td>Man</td>\n",
       "      <td>No</td>\n",
       "      <td>Bisexual;Gay or Lesbian;Straight / Heterosexual</td>\n",
       "      <td>Black or of African descent;Hispanic or Latino...</td>\n",
       "      <td>Yes</td>\n",
       "      <td>Too long</td>\n",
       "      <td>Neither easy nor difficult</td>\n",
       "    </tr>\n",
       "    <tr>\n",
       "      <th>2298</th>\n",
       "      <td>4675</td>\n",
       "      <td>I am a developer by profession</td>\n",
       "      <td>Yes</td>\n",
       "      <td>Never</td>\n",
       "      <td>OSS is, on average, of HIGHER quality than pro...</td>\n",
       "      <td>Employed full-time</td>\n",
       "      <td>United States</td>\n",
       "      <td>No</td>\n",
       "      <td>Bachelor’s degree (BA, BS, B.Eng., etc.)</td>\n",
       "      <td>Information systems, information technology, o...</td>\n",
       "      <td>...</td>\n",
       "      <td>Just as welcome now as I felt last year</td>\n",
       "      <td>Tech meetups or events in your area</td>\n",
       "      <td>27.0</td>\n",
       "      <td>Man</td>\n",
       "      <td>No</td>\n",
       "      <td>Straight / Heterosexual</td>\n",
       "      <td>White or of European descent</td>\n",
       "      <td>No</td>\n",
       "      <td>Appropriate in length</td>\n",
       "      <td>Easy</td>\n",
       "    </tr>\n",
       "    <tr>\n",
       "      <th>2299</th>\n",
       "      <td>4676</td>\n",
       "      <td>I am a developer by profession</td>\n",
       "      <td>Yes</td>\n",
       "      <td>Never</td>\n",
       "      <td>OSS is, on average, of HIGHER quality than pro...</td>\n",
       "      <td>Employed full-time</td>\n",
       "      <td>Finland</td>\n",
       "      <td>No</td>\n",
       "      <td>Master’s degree (MA, MS, M.Eng., MBA, etc.)</td>\n",
       "      <td>Another engineering discipline (ex. civil, ele...</td>\n",
       "      <td>...</td>\n",
       "      <td>Somewhat less welcome now than last year</td>\n",
       "      <td>NaN</td>\n",
       "      <td>36.0</td>\n",
       "      <td>Man</td>\n",
       "      <td>No</td>\n",
       "      <td>Straight / Heterosexual</td>\n",
       "      <td>White or of European descent</td>\n",
       "      <td>Yes</td>\n",
       "      <td>Too long</td>\n",
       "      <td>Easy</td>\n",
       "    </tr>\n",
       "    <tr>\n",
       "      <th>2300</th>\n",
       "      <td>4677</td>\n",
       "      <td>I am a developer by profession</td>\n",
       "      <td>Yes</td>\n",
       "      <td>Once a month or more often</td>\n",
       "      <td>OSS is, on average, of HIGHER quality than pro...</td>\n",
       "      <td>Employed full-time</td>\n",
       "      <td>United Kingdom</td>\n",
       "      <td>No</td>\n",
       "      <td>Bachelor’s degree (BA, BS, B.Eng., etc.)</td>\n",
       "      <td>A natural science (ex. biology, chemistry, phy...</td>\n",
       "      <td>...</td>\n",
       "      <td>Just as welcome now as I felt last year</td>\n",
       "      <td>NaN</td>\n",
       "      <td>40.0</td>\n",
       "      <td>Man</td>\n",
       "      <td>No</td>\n",
       "      <td>Straight / Heterosexual</td>\n",
       "      <td>White or of European descent</td>\n",
       "      <td>Yes</td>\n",
       "      <td>Appropriate in length</td>\n",
       "      <td>Easy</td>\n",
       "    </tr>\n",
       "    <tr>\n",
       "      <th>2301</th>\n",
       "      <td>4679</td>\n",
       "      <td>I am a developer by profession</td>\n",
       "      <td>Yes</td>\n",
       "      <td>Less than once a month but more than once per ...</td>\n",
       "      <td>The quality of OSS and closed source software ...</td>\n",
       "      <td>Employed full-time</td>\n",
       "      <td>United States</td>\n",
       "      <td>No</td>\n",
       "      <td>Master’s degree (MA, MS, M.Eng., MBA, etc.)</td>\n",
       "      <td>Computer science, computer engineering, or sof...</td>\n",
       "      <td>...</td>\n",
       "      <td>Just as welcome now as I felt last year</td>\n",
       "      <td>NaN</td>\n",
       "      <td>27.0</td>\n",
       "      <td>Man</td>\n",
       "      <td>No</td>\n",
       "      <td>NaN</td>\n",
       "      <td>White or of European descent</td>\n",
       "      <td>No</td>\n",
       "      <td>Appropriate in length</td>\n",
       "      <td>Easy</td>\n",
       "    </tr>\n",
       "  </tbody>\n",
       "</table>\n",
       "<p>154 rows × 85 columns</p>\n",
       "</div>"
      ],
      "text/plain": [
       "      Respondent                                         MainBranch Hobbyist  \\\n",
       "1168        2339                     I am a developer by profession      Yes   \n",
       "1169        2342                     I am a developer by profession      Yes   \n",
       "1170        2343                     I am a developer by profession      Yes   \n",
       "1171        2344                     I am a developer by profession      Yes   \n",
       "1172        2347                     I am a developer by profession      Yes   \n",
       "...          ...                                                ...      ...   \n",
       "2297        4674  I am not primarily a developer, but I write co...      Yes   \n",
       "2298        4675                     I am a developer by profession      Yes   \n",
       "2299        4676                     I am a developer by profession      Yes   \n",
       "2300        4677                     I am a developer by profession      Yes   \n",
       "2301        4679                     I am a developer by profession      Yes   \n",
       "\n",
       "                                            OpenSourcer  \\\n",
       "1168                         Once a month or more often   \n",
       "1169                                              Never   \n",
       "1170  Less than once a month but more than once per ...   \n",
       "1171                                              Never   \n",
       "1172                                              Never   \n",
       "...                                                 ...   \n",
       "2297                            Less than once per year   \n",
       "2298                                              Never   \n",
       "2299                                              Never   \n",
       "2300                         Once a month or more often   \n",
       "2301  Less than once a month but more than once per ...   \n",
       "\n",
       "                                             OpenSource          Employment  \\\n",
       "1168  OSS is, on average, of HIGHER quality than pro...  Employed full-time   \n",
       "1169  The quality of OSS and closed source software ...  Employed full-time   \n",
       "1170  OSS is, on average, of LOWER quality than prop...  Employed full-time   \n",
       "1171  The quality of OSS and closed source software ...  Employed full-time   \n",
       "1172  OSS is, on average, of HIGHER quality than pro...  Employed full-time   \n",
       "...                                                 ...                 ...   \n",
       "2297  The quality of OSS and closed source software ...  Employed full-time   \n",
       "2298  OSS is, on average, of HIGHER quality than pro...  Employed full-time   \n",
       "2299  OSS is, on average, of HIGHER quality than pro...  Employed full-time   \n",
       "2300  OSS is, on average, of HIGHER quality than pro...  Employed full-time   \n",
       "2301  The quality of OSS and closed source software ...  Employed full-time   \n",
       "\n",
       "             Country Student  \\\n",
       "1168   United States      No   \n",
       "1169  United Kingdom      No   \n",
       "1170          Canada      No   \n",
       "1171   United States      No   \n",
       "1172  United Kingdom      No   \n",
       "...              ...     ...   \n",
       "2297      Bangladesh      No   \n",
       "2298   United States      No   \n",
       "2299         Finland      No   \n",
       "2300  United Kingdom      No   \n",
       "2301   United States      No   \n",
       "\n",
       "                                                EdLevel  \\\n",
       "1168  Some college/university study without earning ...   \n",
       "1169  Some college/university study without earning ...   \n",
       "1170        Master’s degree (MA, MS, M.Eng., MBA, etc.)   \n",
       "1171           Bachelor’s degree (BA, BS, B.Eng., etc.)   \n",
       "1172        Master’s degree (MA, MS, M.Eng., MBA, etc.)   \n",
       "...                                                 ...   \n",
       "2297           Bachelor’s degree (BA, BS, B.Eng., etc.)   \n",
       "2298           Bachelor’s degree (BA, BS, B.Eng., etc.)   \n",
       "2299        Master’s degree (MA, MS, M.Eng., MBA, etc.)   \n",
       "2300           Bachelor’s degree (BA, BS, B.Eng., etc.)   \n",
       "2301        Master’s degree (MA, MS, M.Eng., MBA, etc.)   \n",
       "\n",
       "                                         UndergradMajor  ...  \\\n",
       "1168  Computer science, computer engineering, or sof...  ...   \n",
       "1169  Information systems, information technology, o...  ...   \n",
       "1170  Computer science, computer engineering, or sof...  ...   \n",
       "1171  Computer science, computer engineering, or sof...  ...   \n",
       "1172  Computer science, computer engineering, or sof...  ...   \n",
       "...                                                 ...  ...   \n",
       "2297                                                NaN  ...   \n",
       "2298  Information systems, information technology, o...  ...   \n",
       "2299  Another engineering discipline (ex. civil, ele...  ...   \n",
       "2300  A natural science (ex. biology, chemistry, phy...  ...   \n",
       "2301  Computer science, computer engineering, or sof...  ...   \n",
       "\n",
       "                                 WelcomeChange  \\\n",
       "1168   Just as welcome now as I felt last year   \n",
       "1169  Somewhat more welcome now than last year   \n",
       "1170  Somewhat more welcome now than last year   \n",
       "1171   Just as welcome now as I felt last year   \n",
       "1172   Just as welcome now as I felt last year   \n",
       "...                                        ...   \n",
       "2297  Somewhat less welcome now than last year   \n",
       "2298   Just as welcome now as I felt last year   \n",
       "2299  Somewhat less welcome now than last year   \n",
       "2300   Just as welcome now as I felt last year   \n",
       "2301   Just as welcome now as I felt last year   \n",
       "\n",
       "                                           SONewContent   Age Gender Trans  \\\n",
       "1168                                                NaN  24.0    Man    No   \n",
       "1169  Tech meetups or events in your area;Courses on...  24.0    Man    No   \n",
       "1170  Tech articles written by other developers;Indu...  27.0    Man    No   \n",
       "1171  Tech articles written by other developers;Indu...  24.0    Man    No   \n",
       "1172                                                NaN   NaN  Woman    No   \n",
       "...                                                 ...   ...    ...   ...   \n",
       "2297  Tech articles written by other developers;Indu...  31.0    Man    No   \n",
       "2298                Tech meetups or events in your area  27.0    Man    No   \n",
       "2299                                                NaN  36.0    Man    No   \n",
       "2300                                                NaN  40.0    Man    No   \n",
       "2301                                                NaN  27.0    Man    No   \n",
       "\n",
       "                                            Sexuality  \\\n",
       "1168                          Straight / Heterosexual   \n",
       "1169                          Straight / Heterosexual   \n",
       "1170                          Straight / Heterosexual   \n",
       "1171                          Straight / Heterosexual   \n",
       "1172                          Straight / Heterosexual   \n",
       "...                                               ...   \n",
       "2297  Bisexual;Gay or Lesbian;Straight / Heterosexual   \n",
       "2298                          Straight / Heterosexual   \n",
       "2299                          Straight / Heterosexual   \n",
       "2300                          Straight / Heterosexual   \n",
       "2301                                              NaN   \n",
       "\n",
       "                                              Ethnicity Dependents  \\\n",
       "1168                       White or of European descent         No   \n",
       "1169                       White or of European descent         No   \n",
       "1170  Black or of African descent;White or of Europe...         No   \n",
       "1171                       White or of European descent         No   \n",
       "1172                                           Biracial         No   \n",
       "...                                                 ...        ...   \n",
       "2297  Black or of African descent;Hispanic or Latino...        Yes   \n",
       "2298                       White or of European descent         No   \n",
       "2299                       White or of European descent        Yes   \n",
       "2300                       White or of European descent        Yes   \n",
       "2301                       White or of European descent         No   \n",
       "\n",
       "               SurveyLength                  SurveyEase  \n",
       "1168  Appropriate in length                        Easy  \n",
       "1169               Too long                        Easy  \n",
       "1170  Appropriate in length  Neither easy nor difficult  \n",
       "1171  Appropriate in length                        Easy  \n",
       "1172               Too long                        Easy  \n",
       "...                     ...                         ...  \n",
       "2297               Too long  Neither easy nor difficult  \n",
       "2298  Appropriate in length                        Easy  \n",
       "2299               Too long                        Easy  \n",
       "2300  Appropriate in length                        Easy  \n",
       "2301  Appropriate in length                        Easy  \n",
       "\n",
       "[154 rows x 85 columns]"
      ]
     },
     "execution_count": 6,
     "metadata": {},
     "output_type": "execute_result"
    }
   ],
   "source": [
    "df=df_base\n",
    "df[df['Respondent'].duplicated()]"
   ]
  },
  {
   "cell_type": "markdown",
   "id": "73c9376b",
   "metadata": {},
   "source": [
    "We can see that there are total 154 duplicate rows."
   ]
  },
  {
   "cell_type": "markdown",
   "id": "c717c66c",
   "metadata": {},
   "source": [
    "### Removing duplicates"
   ]
  },
  {
   "cell_type": "code",
   "execution_count": 7,
   "id": "65119fcc",
   "metadata": {},
   "outputs": [],
   "source": [
    "df.drop_duplicates(inplace=True)"
   ]
  },
  {
   "cell_type": "markdown",
   "id": "ea398017",
   "metadata": {},
   "source": [
    "Verifying if duplicates are successfully removed."
   ]
  },
  {
   "cell_type": "code",
   "execution_count": 8,
   "id": "1112bab3",
   "metadata": {},
   "outputs": [
    {
     "data": {
      "text/html": [
       "<div>\n",
       "<style scoped>\n",
       "    .dataframe tbody tr th:only-of-type {\n",
       "        vertical-align: middle;\n",
       "    }\n",
       "\n",
       "    .dataframe tbody tr th {\n",
       "        vertical-align: top;\n",
       "    }\n",
       "\n",
       "    .dataframe thead th {\n",
       "        text-align: right;\n",
       "    }\n",
       "</style>\n",
       "<table border=\"1\" class=\"dataframe\">\n",
       "  <thead>\n",
       "    <tr style=\"text-align: right;\">\n",
       "      <th></th>\n",
       "      <th>Respondent</th>\n",
       "      <th>MainBranch</th>\n",
       "      <th>Hobbyist</th>\n",
       "      <th>OpenSourcer</th>\n",
       "      <th>OpenSource</th>\n",
       "      <th>Employment</th>\n",
       "      <th>Country</th>\n",
       "      <th>Student</th>\n",
       "      <th>EdLevel</th>\n",
       "      <th>UndergradMajor</th>\n",
       "      <th>...</th>\n",
       "      <th>WelcomeChange</th>\n",
       "      <th>SONewContent</th>\n",
       "      <th>Age</th>\n",
       "      <th>Gender</th>\n",
       "      <th>Trans</th>\n",
       "      <th>Sexuality</th>\n",
       "      <th>Ethnicity</th>\n",
       "      <th>Dependents</th>\n",
       "      <th>SurveyLength</th>\n",
       "      <th>SurveyEase</th>\n",
       "    </tr>\n",
       "  </thead>\n",
       "  <tbody>\n",
       "  </tbody>\n",
       "</table>\n",
       "<p>0 rows × 85 columns</p>\n",
       "</div>"
      ],
      "text/plain": [
       "Empty DataFrame\n",
       "Columns: [Respondent, MainBranch, Hobbyist, OpenSourcer, OpenSource, Employment, Country, Student, EdLevel, UndergradMajor, EduOther, OrgSize, DevType, YearsCode, Age1stCode, YearsCodePro, CareerSat, JobSat, MgrIdiot, MgrMoney, MgrWant, JobSeek, LastHireDate, LastInt, FizzBuzz, JobFactors, ResumeUpdate, CurrencySymbol, CurrencyDesc, CompTotal, CompFreq, ConvertedComp, WorkWeekHrs, WorkPlan, WorkChallenge, WorkRemote, WorkLoc, ImpSyn, CodeRev, CodeRevHrs, UnitTests, PurchaseHow, PurchaseWhat, LanguageWorkedWith, LanguageDesireNextYear, DatabaseWorkedWith, DatabaseDesireNextYear, PlatformWorkedWith, PlatformDesireNextYear, WebFrameWorkedWith, WebFrameDesireNextYear, MiscTechWorkedWith, MiscTechDesireNextYear, DevEnviron, OpSys, Containers, BlockchainOrg, BlockchainIs, BetterLife, ITperson, OffOn, SocialMedia, Extraversion, ScreenName, SOVisit1st, SOVisitFreq, SOVisitTo, SOFindAnswer, SOTimeSaved, SOHowMuchTime, SOAccount, SOPartFreq, SOJobs, EntTeams, SOComm, WelcomeChange, SONewContent, Age, Gender, Trans, Sexuality, Ethnicity, Dependents, SurveyLength, SurveyEase]\n",
       "Index: []\n",
       "\n",
       "[0 rows x 85 columns]"
      ]
     },
     "execution_count": 8,
     "metadata": {},
     "output_type": "execute_result"
    }
   ],
   "source": [
    "df[df['Respondent'].duplicated()]"
   ]
  },
  {
   "cell_type": "code",
   "execution_count": 9,
   "id": "f6cc3280",
   "metadata": {},
   "outputs": [],
   "source": [
    "#Resetting the index\n",
    "df.reset_index(drop=True, inplace=True) "
   ]
  },
  {
   "cell_type": "markdown",
   "id": "6b1b90f7",
   "metadata": {},
   "source": [
    "### Finding and removing missing values"
   ]
  },
  {
   "cell_type": "code",
   "execution_count": 10,
   "id": "b0f4bb6d",
   "metadata": {},
   "outputs": [
    {
     "name": "stdout",
     "output_type": "stream",
     "text": [
      "Respondent\n",
      "False    11398\n",
      "Name: Respondent, dtype: int64\n",
      "\n",
      "MainBranch\n",
      "False    11398\n",
      "Name: MainBranch, dtype: int64\n",
      "\n",
      "Hobbyist\n",
      "False    11398\n",
      "Name: Hobbyist, dtype: int64\n",
      "\n",
      "OpenSourcer\n",
      "False    11398\n",
      "Name: OpenSourcer, dtype: int64\n",
      "\n",
      "OpenSource\n",
      "False    11317\n",
      "True        81\n",
      "Name: OpenSource, dtype: int64\n",
      "\n",
      "Employment\n",
      "False    11398\n",
      "Name: Employment, dtype: int64\n",
      "\n",
      "Country\n",
      "False    11398\n",
      "Name: Country, dtype: int64\n",
      "\n",
      "Student\n",
      "False    11347\n",
      "True        51\n",
      "Name: Student, dtype: int64\n",
      "\n",
      "EdLevel\n",
      "False    11286\n",
      "True       112\n",
      "Name: EdLevel, dtype: int64\n",
      "\n",
      "UndergradMajor\n",
      "False    10661\n",
      "True       737\n",
      "Name: UndergradMajor, dtype: int64\n",
      "\n",
      "EduOther\n",
      "False    11234\n",
      "True       164\n",
      "Name: EduOther, dtype: int64\n",
      "\n",
      "OrgSize\n",
      "False    11302\n",
      "True        96\n",
      "Name: OrgSize, dtype: int64\n",
      "\n",
      "DevType\n",
      "False    11333\n",
      "True        65\n",
      "Name: DevType, dtype: int64\n",
      "\n",
      "YearsCode\n",
      "False    11389\n",
      "True         9\n",
      "Name: YearsCode, dtype: int64\n",
      "\n",
      "Age1stCode\n",
      "False    11385\n",
      "True        13\n",
      "Name: Age1stCode, dtype: int64\n",
      "\n",
      "YearsCodePro\n",
      "False    11382\n",
      "True        16\n",
      "Name: YearsCodePro, dtype: int64\n",
      "\n",
      "CareerSat\n",
      "False    11398\n",
      "Name: CareerSat, dtype: int64\n",
      "\n",
      "JobSat\n",
      "False    11397\n",
      "True         1\n",
      "Name: JobSat, dtype: int64\n",
      "\n",
      "MgrIdiot\n",
      "False    10905\n",
      "True       493\n",
      "Name: MgrIdiot, dtype: int64\n",
      "\n",
      "MgrMoney\n",
      "False    10901\n",
      "True       497\n",
      "Name: MgrMoney, dtype: int64\n",
      "\n",
      "MgrWant\n",
      "False    10905\n",
      "True       493\n",
      "Name: MgrWant, dtype: int64\n",
      "\n",
      "JobSeek\n",
      "False    11398\n",
      "Name: JobSeek, dtype: int64\n",
      "\n",
      "LastHireDate\n",
      "False    11398\n",
      "Name: LastHireDate, dtype: int64\n",
      "\n",
      "LastInt\n",
      "False    10985\n",
      "True       413\n",
      "Name: LastInt, dtype: int64\n",
      "\n",
      "FizzBuzz\n",
      "False    11361\n",
      "True        37\n",
      "Name: FizzBuzz, dtype: int64\n",
      "\n",
      "JobFactors\n",
      "False    11395\n",
      "True         3\n",
      "Name: JobFactors, dtype: int64\n",
      "\n",
      "ResumeUpdate\n",
      "False    11359\n",
      "True        39\n",
      "Name: ResumeUpdate, dtype: int64\n",
      "\n",
      "CurrencySymbol\n",
      "False    11398\n",
      "Name: CurrencySymbol, dtype: int64\n",
      "\n",
      "CurrencyDesc\n",
      "False    11398\n",
      "Name: CurrencyDesc, dtype: int64\n",
      "\n",
      "CompTotal\n",
      "False    10589\n",
      "True       809\n",
      "Name: CompTotal, dtype: int64\n",
      "\n",
      "CompFreq\n",
      "False    11192\n",
      "True       206\n",
      "Name: CompFreq, dtype: int64\n",
      "\n",
      "ConvertedComp\n",
      "False    10582\n",
      "True       816\n",
      "Name: ConvertedComp, dtype: int64\n",
      "\n",
      "WorkWeekHrs\n",
      "False    11276\n",
      "True       122\n",
      "Name: WorkWeekHrs, dtype: int64\n",
      "\n",
      "WorkPlan\n",
      "False    11277\n",
      "True       121\n",
      "Name: WorkPlan, dtype: int64\n",
      "\n",
      "WorkChallenge\n",
      "False    11234\n",
      "True       164\n",
      "Name: WorkChallenge, dtype: int64\n",
      "\n",
      "WorkRemote\n",
      "False    11390\n",
      "True         8\n",
      "Name: WorkRemote, dtype: int64\n",
      "\n",
      "WorkLoc\n",
      "False    11366\n",
      "True        32\n",
      "Name: WorkLoc, dtype: int64\n",
      "\n",
      "ImpSyn\n",
      "False    11393\n",
      "True         5\n",
      "Name: ImpSyn, dtype: int64\n",
      "\n",
      "CodeRev\n",
      "False    11397\n",
      "True         1\n",
      "Name: CodeRev, dtype: int64\n",
      "\n",
      "CodeRevHrs\n",
      "False    8972\n",
      "True     2426\n",
      "Name: CodeRevHrs, dtype: int64\n",
      "\n",
      "UnitTests\n",
      "False    11369\n",
      "True        29\n",
      "Name: UnitTests, dtype: int64\n",
      "\n",
      "PurchaseHow\n",
      "False    11202\n",
      "True       196\n",
      "Name: PurchaseHow, dtype: int64\n",
      "\n",
      "PurchaseWhat\n",
      "False    11360\n",
      "True        38\n",
      "Name: PurchaseWhat, dtype: int64\n",
      "\n",
      "LanguageWorkedWith\n",
      "False    11387\n",
      "True        11\n",
      "Name: LanguageWorkedWith, dtype: int64\n",
      "\n",
      "LanguageDesireNextYear\n",
      "False    11264\n",
      "True       134\n",
      "Name: LanguageDesireNextYear, dtype: int64\n",
      "\n",
      "DatabaseWorkedWith\n",
      "False    10945\n",
      "True       453\n",
      "Name: DatabaseWorkedWith, dtype: int64\n",
      "\n",
      "DatabaseDesireNextYear\n",
      "False    10356\n",
      "True      1042\n",
      "Name: DatabaseDesireNextYear, dtype: int64\n",
      "\n",
      "PlatformWorkedWith\n",
      "False    10987\n",
      "True       411\n",
      "Name: PlatformWorkedWith, dtype: int64\n",
      "\n",
      "PlatformDesireNextYear\n",
      "False    10854\n",
      "True       544\n",
      "Name: PlatformDesireNextYear, dtype: int64\n",
      "\n",
      "WebFrameWorkedWith\n",
      "False    10005\n",
      "True      1393\n",
      "Name: WebFrameWorkedWith, dtype: int64\n",
      "\n",
      "WebFrameDesireNextYear\n",
      "False    9781\n",
      "True     1617\n",
      "Name: WebFrameDesireNextYear, dtype: int64\n",
      "\n",
      "MiscTechWorkedWith\n",
      "False    9216\n",
      "True     2182\n",
      "Name: MiscTechWorkedWith, dtype: int64\n",
      "\n",
      "MiscTechDesireNextYear\n",
      "False    9943\n",
      "True     1455\n",
      "Name: MiscTechDesireNextYear, dtype: int64\n",
      "\n",
      "DevEnviron\n",
      "False    11369\n",
      "True        29\n",
      "Name: DevEnviron, dtype: int64\n",
      "\n",
      "OpSys\n",
      "False    11364\n",
      "True        34\n",
      "Name: OpSys, dtype: int64\n",
      "\n",
      "Containers\n",
      "False    11316\n",
      "True        82\n",
      "Name: Containers, dtype: int64\n",
      "\n",
      "BlockchainOrg\n",
      "False    9076\n",
      "True     2322\n",
      "Name: BlockchainOrg, dtype: int64\n",
      "\n",
      "BlockchainIs\n",
      "False    8788\n",
      "True     2610\n",
      "Name: BlockchainIs, dtype: int64\n",
      "\n",
      "BetterLife\n",
      "False    11300\n",
      "True        98\n",
      "Name: BetterLife, dtype: int64\n",
      "\n",
      "ITperson\n",
      "False    11363\n",
      "True        35\n",
      "Name: ITperson, dtype: int64\n",
      "\n",
      "OffOn\n",
      "False    11360\n",
      "True        38\n",
      "Name: OffOn, dtype: int64\n",
      "\n",
      "SocialMedia\n",
      "False    11105\n",
      "True       293\n",
      "Name: SocialMedia, dtype: int64\n",
      "\n",
      "Extraversion\n",
      "False    11378\n",
      "True        20\n",
      "Name: Extraversion, dtype: int64\n",
      "\n",
      "ScreenName\n",
      "False    10891\n",
      "True       507\n",
      "Name: ScreenName, dtype: int64\n",
      "\n",
      "SOVisit1st\n",
      "False    11073\n",
      "True       325\n",
      "Name: SOVisit1st, dtype: int64\n",
      "\n",
      "SOVisitFreq\n",
      "False    11393\n",
      "True         5\n",
      "Name: SOVisitFreq, dtype: int64\n",
      "\n",
      "SOVisitTo\n",
      "False    11397\n",
      "True         1\n",
      "Name: SOVisitTo, dtype: int64\n",
      "\n",
      "SOFindAnswer\n",
      "False    11395\n",
      "True         3\n",
      "Name: SOFindAnswer, dtype: int64\n",
      "\n",
      "SOTimeSaved\n",
      "False    11348\n",
      "True        50\n",
      "Name: SOTimeSaved, dtype: int64\n",
      "\n",
      "SOHowMuchTime\n",
      "False    9481\n",
      "True     1917\n",
      "Name: SOHowMuchTime, dtype: int64\n",
      "\n",
      "SOAccount\n",
      "False    11397\n",
      "True         1\n",
      "Name: SOAccount, dtype: int64\n",
      "\n",
      "SOPartFreq\n",
      "False    10270\n",
      "True      1128\n",
      "Name: SOPartFreq, dtype: int64\n",
      "\n",
      "SOJobs\n",
      "False    11392\n",
      "True         6\n",
      "Name: SOJobs, dtype: int64\n",
      "\n",
      "EntTeams\n",
      "False    11393\n",
      "True         5\n",
      "Name: EntTeams, dtype: int64\n",
      "\n",
      "SOComm\n",
      "False    11398\n",
      "Name: SOComm, dtype: int64\n",
      "\n",
      "WelcomeChange\n",
      "False    11313\n",
      "True        85\n",
      "Name: WelcomeChange, dtype: int64\n",
      "\n",
      "SONewContent\n",
      "False    9433\n",
      "True     1965\n",
      "Name: SONewContent, dtype: int64\n",
      "\n",
      "Age\n",
      "False    11111\n",
      "True       287\n",
      "Name: Age, dtype: int64\n",
      "\n",
      "Gender\n",
      "False    11325\n",
      "True        73\n",
      "Name: Gender, dtype: int64\n",
      "\n",
      "Trans\n",
      "False    11275\n",
      "True       123\n",
      "Name: Trans, dtype: int64\n",
      "\n",
      "Sexuality\n",
      "False    10856\n",
      "True       542\n",
      "Name: Sexuality, dtype: int64\n",
      "\n",
      "Ethnicity\n",
      "False    10723\n",
      "True       675\n",
      "Name: Ethnicity, dtype: int64\n",
      "\n",
      "Dependents\n",
      "False    11258\n",
      "True       140\n",
      "Name: Dependents, dtype: int64\n",
      "\n",
      "SurveyLength\n",
      "False    11379\n",
      "True        19\n",
      "Name: SurveyLength, dtype: int64\n",
      "\n",
      "SurveyEase\n",
      "False    11384\n",
      "True        14\n",
      "Name: SurveyEase, dtype: int64\n",
      "\n"
     ]
    }
   ],
   "source": [
    "#Finding missing values from all columns\n",
    "missing_data = df.isnull()\n",
    "for column in missing_data.columns.values.tolist():\n",
    "    print(column)\n",
    "    print (missing_data[column].value_counts())\n",
    "    print(\"\") "
   ]
  },
  {
   "cell_type": "markdown",
   "id": "4bef8f68",
   "metadata": {},
   "source": [
    "* We can see that there are multiple columns with NaN values. We will treat each column separately."
   ]
  },
  {
   "cell_type": "code",
   "execution_count": 11,
   "id": "4805e8d9",
   "metadata": {},
   "outputs": [
    {
     "data": {
      "text/plain": [
       "False    11398\n",
       "Name: SurveyLength, dtype: int64"
      ]
     },
     "execution_count": 11,
     "metadata": {},
     "output_type": "execute_result"
    }
   ],
   "source": [
    "freq=df['SurveyLength'].value_counts().max()\n",
    "df['SurveyLength'].replace(np.nan, freq, inplace=True)\n",
    "df['SurveyLength'].isnull().value_counts()"
   ]
  },
  {
   "cell_type": "code",
   "execution_count": 12,
   "id": "b3049ae5",
   "metadata": {},
   "outputs": [
    {
     "data": {
      "text/plain": [
       "False    11398\n",
       "Name: SurveyEase, dtype: int64"
      ]
     },
     "execution_count": 12,
     "metadata": {},
     "output_type": "execute_result"
    }
   ],
   "source": [
    "freq=df['SurveyEase'].value_counts().max()\n",
    "df['SurveyEase'].replace(np.nan, freq, inplace=True)\n",
    "df['SurveyEase'].isnull().value_counts()"
   ]
  },
  {
   "cell_type": "code",
   "execution_count": 13,
   "id": "e1203dc1",
   "metadata": {},
   "outputs": [
    {
     "data": {
      "text/plain": [
       "False    11398\n",
       "Name: Dependents, dtype: int64"
      ]
     },
     "execution_count": 13,
     "metadata": {},
     "output_type": "execute_result"
    }
   ],
   "source": [
    "freq=df['Dependents'].value_counts().max()\n",
    "df['Dependents'].replace(np.nan, freq, inplace=True)\n",
    "df['Dependents'].isnull().value_counts()"
   ]
  },
  {
   "cell_type": "code",
   "execution_count": 14,
   "id": "f4446ac3",
   "metadata": {},
   "outputs": [
    {
     "data": {
      "text/plain": [
       "False    11398\n",
       "Name: Ethnicity, dtype: int64"
      ]
     },
     "execution_count": 14,
     "metadata": {},
     "output_type": "execute_result"
    }
   ],
   "source": [
    "freq=df['Ethnicity'].value_counts().max()\n",
    "df['Ethnicity'].replace(np.nan, freq, inplace=True)\n",
    "df['Ethnicity'].isnull().value_counts()"
   ]
  },
  {
   "cell_type": "code",
   "execution_count": 15,
   "id": "69ae9204",
   "metadata": {},
   "outputs": [
    {
     "data": {
      "text/plain": [
       "False    11398\n",
       "Name: Sexuality, dtype: int64"
      ]
     },
     "execution_count": 15,
     "metadata": {},
     "output_type": "execute_result"
    }
   ],
   "source": [
    "freq=df['Sexuality'].value_counts().max()\n",
    "df['Sexuality'].replace(np.nan, freq, inplace=True)\n",
    "df['Sexuality'].isnull().value_counts()"
   ]
  },
  {
   "cell_type": "code",
   "execution_count": 16,
   "id": "4217d0ab",
   "metadata": {},
   "outputs": [
    {
     "data": {
      "text/plain": [
       "False    11398\n",
       "Name: Trans, dtype: int64"
      ]
     },
     "execution_count": 16,
     "metadata": {},
     "output_type": "execute_result"
    }
   ],
   "source": [
    "freq=df['Trans'].value_counts().max()\n",
    "df['Trans'].replace(np.nan, freq, inplace=True)\n",
    "df['Trans'].isnull().value_counts()"
   ]
  },
  {
   "cell_type": "code",
   "execution_count": 17,
   "id": "9eebac1b",
   "metadata": {},
   "outputs": [
    {
     "data": {
      "text/plain": [
       "False    11398\n",
       "Name: Gender, dtype: int64"
      ]
     },
     "execution_count": 17,
     "metadata": {},
     "output_type": "execute_result"
    }
   ],
   "source": [
    "freq=df['Gender'].value_counts().max()\n",
    "df['Gender'].replace(np.nan, freq, inplace=True)\n",
    "df['Gender'].isnull().value_counts()"
   ]
  },
  {
   "cell_type": "code",
   "execution_count": 18,
   "id": "3089d694",
   "metadata": {},
   "outputs": [
    {
     "data": {
      "text/plain": [
       "False    11398\n",
       "Name: Age, dtype: int64"
      ]
     },
     "execution_count": 18,
     "metadata": {},
     "output_type": "execute_result"
    }
   ],
   "source": [
    "freq=df['Age'].mean()\n",
    "df['Age'].replace(np.nan, freq, inplace=True)\n",
    "df['Age'].isnull().value_counts()"
   ]
  },
  {
   "cell_type": "code",
   "execution_count": 19,
   "id": "de4b8d39",
   "metadata": {},
   "outputs": [
    {
     "data": {
      "text/plain": [
       "False    11398\n",
       "Name: WelcomeChange, dtype: int64"
      ]
     },
     "execution_count": 19,
     "metadata": {},
     "output_type": "execute_result"
    }
   ],
   "source": [
    "freq=df['WelcomeChange'].value_counts().max()\n",
    "df['WelcomeChange'].replace(np.nan, freq, inplace=True)\n",
    "df['WelcomeChange'].isnull().value_counts()"
   ]
  },
  {
   "cell_type": "code",
   "execution_count": 20,
   "id": "88b8119f",
   "metadata": {},
   "outputs": [
    {
     "data": {
      "text/plain": [
       "False    11398\n",
       "Name: SOJobs, dtype: int64"
      ]
     },
     "execution_count": 20,
     "metadata": {},
     "output_type": "execute_result"
    }
   ],
   "source": [
    "freq=df['SOJobs'].value_counts().max()\n",
    "df['SOJobs'].replace(np.nan, freq, inplace=True)\n",
    "df['SOJobs'].isnull().value_counts()"
   ]
  },
  {
   "cell_type": "code",
   "execution_count": 21,
   "id": "50137021",
   "metadata": {},
   "outputs": [
    {
     "data": {
      "text/plain": [
       "False    11398\n",
       "Name: EntTeams, dtype: int64"
      ]
     },
     "execution_count": 21,
     "metadata": {},
     "output_type": "execute_result"
    }
   ],
   "source": [
    "freq=df['EntTeams'].value_counts().max()\n",
    "df['EntTeams'].replace(np.nan, freq, inplace=True)\n",
    "df['EntTeams'].isnull().value_counts()"
   ]
  },
  {
   "cell_type": "code",
   "execution_count": 22,
   "id": "4d1eb98c",
   "metadata": {},
   "outputs": [
    {
     "data": {
      "text/plain": [
       "False    11398\n",
       "Name: SOAccount, dtype: int64"
      ]
     },
     "execution_count": 22,
     "metadata": {},
     "output_type": "execute_result"
    }
   ],
   "source": [
    "freq=df['SOAccount'].value_counts().max()\n",
    "df['SOAccount'].replace(np.nan, freq, inplace=True)\n",
    "df['SOAccount'].isnull().value_counts()"
   ]
  },
  {
   "cell_type": "code",
   "execution_count": 23,
   "id": "275fecdc",
   "metadata": {},
   "outputs": [
    {
     "data": {
      "text/plain": [
       "False    11398\n",
       "Name: SOFindAnswer, dtype: int64"
      ]
     },
     "execution_count": 23,
     "metadata": {},
     "output_type": "execute_result"
    }
   ],
   "source": [
    "freq=df['SOFindAnswer'].value_counts().max()\n",
    "df['SOFindAnswer'].replace(np.nan, freq, inplace=True)\n",
    "df['SOFindAnswer'].isnull().value_counts()"
   ]
  },
  {
   "cell_type": "code",
   "execution_count": 24,
   "id": "df111e31",
   "metadata": {},
   "outputs": [
    {
     "data": {
      "text/plain": [
       "False    11398\n",
       "Name: SOTimeSaved, dtype: int64"
      ]
     },
     "execution_count": 24,
     "metadata": {},
     "output_type": "execute_result"
    }
   ],
   "source": [
    "freq=df['SOTimeSaved'].value_counts().max()\n",
    "df['SOTimeSaved'].replace(np.nan, freq, inplace=True)\n",
    "df['SOTimeSaved'].isnull().value_counts()"
   ]
  },
  {
   "cell_type": "code",
   "execution_count": 25,
   "id": "87d6daf0",
   "metadata": {},
   "outputs": [
    {
     "data": {
      "text/plain": [
       "False    11398\n",
       "Name: SOVisitTo, dtype: int64"
      ]
     },
     "execution_count": 25,
     "metadata": {},
     "output_type": "execute_result"
    }
   ],
   "source": [
    "freq=df['SOVisitTo'].value_counts().max()\n",
    "df['SOVisitTo'].replace(np.nan, freq, inplace=True)\n",
    "df['SOVisitTo'].isnull().value_counts()"
   ]
  },
  {
   "cell_type": "code",
   "execution_count": 26,
   "id": "6bdb4a2d",
   "metadata": {},
   "outputs": [
    {
     "data": {
      "text/plain": [
       "False    11398\n",
       "Name: SOVisitFreq, dtype: int64"
      ]
     },
     "execution_count": 26,
     "metadata": {},
     "output_type": "execute_result"
    }
   ],
   "source": [
    "freq=df['SOVisitFreq'].value_counts().max()\n",
    "df['SOVisitFreq'].replace(np.nan, freq, inplace=True)\n",
    "df['SOVisitFreq'].isnull().value_counts()"
   ]
  },
  {
   "cell_type": "code",
   "execution_count": 27,
   "id": "08b218a7",
   "metadata": {},
   "outputs": [
    {
     "data": {
      "text/plain": [
       "False    11398\n",
       "Name: SOVisit1st, dtype: int64"
      ]
     },
     "execution_count": 27,
     "metadata": {},
     "output_type": "execute_result"
    }
   ],
   "source": [
    "freq=df['SOVisit1st'].value_counts().max()\n",
    "df['SOVisit1st'].replace(np.nan, freq, inplace=True)\n",
    "df['SOVisit1st'].isnull().value_counts()"
   ]
  },
  {
   "cell_type": "code",
   "execution_count": 28,
   "id": "b9a0990a",
   "metadata": {},
   "outputs": [
    {
     "data": {
      "text/plain": [
       "False    11398\n",
       "Name: ScreenName, dtype: int64"
      ]
     },
     "execution_count": 28,
     "metadata": {},
     "output_type": "execute_result"
    }
   ],
   "source": [
    "freq=df['ScreenName'].value_counts().max()\n",
    "df['ScreenName'].replace(np.nan, freq, inplace=True)\n",
    "df['ScreenName'].isnull().value_counts()"
   ]
  },
  {
   "cell_type": "code",
   "execution_count": 29,
   "id": "390d498a",
   "metadata": {},
   "outputs": [
    {
     "data": {
      "text/plain": [
       "False    11398\n",
       "Name: Extraversion, dtype: int64"
      ]
     },
     "execution_count": 29,
     "metadata": {},
     "output_type": "execute_result"
    }
   ],
   "source": [
    "freq=df['Extraversion'].value_counts().max()\n",
    "df['Extraversion'].replace(np.nan, freq, inplace=True)\n",
    "df['Extraversion'].isnull().value_counts()"
   ]
  },
  {
   "cell_type": "code",
   "execution_count": 30,
   "id": "5e6235e3",
   "metadata": {},
   "outputs": [
    {
     "data": {
      "text/plain": [
       "False    11398\n",
       "Name: SocialMedia, dtype: int64"
      ]
     },
     "execution_count": 30,
     "metadata": {},
     "output_type": "execute_result"
    }
   ],
   "source": [
    "freq=df['SocialMedia'].value_counts().max()\n",
    "df['SocialMedia'].replace(np.nan, freq, inplace=True)\n",
    "df['SocialMedia'].isnull().value_counts()"
   ]
  },
  {
   "cell_type": "code",
   "execution_count": 31,
   "id": "f3ec795b",
   "metadata": {},
   "outputs": [
    {
     "data": {
      "text/plain": [
       "False    11398\n",
       "Name: OffOn, dtype: int64"
      ]
     },
     "execution_count": 31,
     "metadata": {},
     "output_type": "execute_result"
    }
   ],
   "source": [
    "freq=df['OffOn'].value_counts().max()\n",
    "df['OffOn'].replace(np.nan, freq, inplace=True)\n",
    "df['OffOn'].isnull().value_counts()"
   ]
  },
  {
   "cell_type": "code",
   "execution_count": 32,
   "id": "408cbd70",
   "metadata": {},
   "outputs": [
    {
     "data": {
      "text/plain": [
       "False    11398\n",
       "Name: ITperson, dtype: int64"
      ]
     },
     "execution_count": 32,
     "metadata": {},
     "output_type": "execute_result"
    }
   ],
   "source": [
    "freq=df['ITperson'].value_counts().max()\n",
    "df['ITperson'].replace(np.nan, freq, inplace=True)\n",
    "df['ITperson'].isnull().value_counts()"
   ]
  },
  {
   "cell_type": "code",
   "execution_count": 33,
   "id": "83cd9e7a",
   "metadata": {},
   "outputs": [
    {
     "data": {
      "text/plain": [
       "False    11398\n",
       "Name: BetterLife, dtype: int64"
      ]
     },
     "execution_count": 33,
     "metadata": {},
     "output_type": "execute_result"
    }
   ],
   "source": [
    "freq=df['BetterLife'].value_counts().max()\n",
    "df['BetterLife'].replace(np.nan, freq, inplace=True)\n",
    "df['BetterLife'].isnull().value_counts()"
   ]
  },
  {
   "cell_type": "code",
   "execution_count": 34,
   "id": "0ea3ecbe",
   "metadata": {},
   "outputs": [
    {
     "data": {
      "text/plain": [
       "False    11398\n",
       "Name: Containers, dtype: int64"
      ]
     },
     "execution_count": 34,
     "metadata": {},
     "output_type": "execute_result"
    }
   ],
   "source": [
    "freq=df['Containers'].value_counts().max()\n",
    "df['Containers'].replace(np.nan, freq, inplace=True)\n",
    "df['Containers'].isnull().value_counts()"
   ]
  },
  {
   "cell_type": "code",
   "execution_count": 35,
   "id": "067e8a59",
   "metadata": {},
   "outputs": [
    {
     "data": {
      "text/plain": [
       "False    11398\n",
       "Name: OpSys, dtype: int64"
      ]
     },
     "execution_count": 35,
     "metadata": {},
     "output_type": "execute_result"
    }
   ],
   "source": [
    "freq=df['OpSys'].value_counts().max()\n",
    "df['OpSys'].replace(np.nan, freq, inplace=True)\n",
    "df['OpSys'].isnull().value_counts()"
   ]
  },
  {
   "cell_type": "code",
   "execution_count": 36,
   "id": "e6e7d94c",
   "metadata": {},
   "outputs": [
    {
     "data": {
      "text/plain": [
       "False    11398\n",
       "Name: DevEnviron, dtype: int64"
      ]
     },
     "execution_count": 36,
     "metadata": {},
     "output_type": "execute_result"
    }
   ],
   "source": [
    "freq=df['DevEnviron'].value_counts().max()\n",
    "df['DevEnviron'].replace(np.nan, freq, inplace=True)\n",
    "df['DevEnviron'].isnull().value_counts()"
   ]
  },
  {
   "cell_type": "code",
   "execution_count": 37,
   "id": "f65b75b7",
   "metadata": {},
   "outputs": [
    {
     "data": {
      "text/plain": [
       "False    11398\n",
       "Name: PlatformDesireNextYear, dtype: int64"
      ]
     },
     "execution_count": 37,
     "metadata": {},
     "output_type": "execute_result"
    }
   ],
   "source": [
    "freq=df['PlatformDesireNextYear'].value_counts().max()\n",
    "df['PlatformDesireNextYear'].replace(np.nan, freq, inplace=True)\n",
    "df['PlatformDesireNextYear'].isnull().value_counts()"
   ]
  },
  {
   "cell_type": "code",
   "execution_count": 38,
   "id": "58af7d5e",
   "metadata": {},
   "outputs": [
    {
     "data": {
      "text/plain": [
       "False    11398\n",
       "Name: PlatformWorkedWith, dtype: int64"
      ]
     },
     "execution_count": 38,
     "metadata": {},
     "output_type": "execute_result"
    }
   ],
   "source": [
    "freq=df['PlatformWorkedWith'].value_counts().max()\n",
    "df['PlatformWorkedWith'].replace(np.nan, freq, inplace=True)\n",
    "df['PlatformWorkedWith'].isnull().value_counts()"
   ]
  },
  {
   "cell_type": "code",
   "execution_count": 39,
   "id": "a5cffcf4",
   "metadata": {},
   "outputs": [
    {
     "data": {
      "text/plain": [
       "False    11398\n",
       "Name: DatabaseWorkedWith, dtype: int64"
      ]
     },
     "execution_count": 39,
     "metadata": {},
     "output_type": "execute_result"
    }
   ],
   "source": [
    "freq=df['DatabaseWorkedWith'].value_counts().max()\n",
    "df['DatabaseWorkedWith'].replace(np.nan, freq, inplace=True)\n",
    "df['DatabaseWorkedWith'].isnull().value_counts()"
   ]
  },
  {
   "cell_type": "code",
   "execution_count": 40,
   "id": "d93d57b6",
   "metadata": {},
   "outputs": [
    {
     "data": {
      "text/plain": [
       "False    11398\n",
       "Name: LanguageDesireNextYear, dtype: int64"
      ]
     },
     "execution_count": 40,
     "metadata": {},
     "output_type": "execute_result"
    }
   ],
   "source": [
    "freq=df['LanguageDesireNextYear'].value_counts().max()\n",
    "df['LanguageDesireNextYear'].replace(np.nan, freq, inplace=True)\n",
    "df['LanguageDesireNextYear'].isnull().value_counts()"
   ]
  },
  {
   "cell_type": "code",
   "execution_count": 41,
   "id": "d290b4c6",
   "metadata": {},
   "outputs": [
    {
     "data": {
      "text/plain": [
       "False    11398\n",
       "Name: LanguageWorkedWith, dtype: int64"
      ]
     },
     "execution_count": 41,
     "metadata": {},
     "output_type": "execute_result"
    }
   ],
   "source": [
    "freq=df['LanguageWorkedWith'].value_counts().max()\n",
    "df['LanguageWorkedWith'].replace(np.nan, freq, inplace=True)\n",
    "df['LanguageWorkedWith'].isnull().value_counts()"
   ]
  },
  {
   "cell_type": "code",
   "execution_count": 42,
   "id": "716cfc94",
   "metadata": {},
   "outputs": [
    {
     "data": {
      "text/plain": [
       "False    11398\n",
       "Name: PurchaseWhat, dtype: int64"
      ]
     },
     "execution_count": 42,
     "metadata": {},
     "output_type": "execute_result"
    }
   ],
   "source": [
    "freq=df['PurchaseWhat'].value_counts().max()\n",
    "df['PurchaseWhat'].replace(np.nan, freq, inplace=True)\n",
    "df['PurchaseWhat'].isnull().value_counts()"
   ]
  },
  {
   "cell_type": "code",
   "execution_count": 43,
   "id": "c63cbb2e",
   "metadata": {},
   "outputs": [
    {
     "data": {
      "text/plain": [
       "False    11398\n",
       "Name: PurchaseHow, dtype: int64"
      ]
     },
     "execution_count": 43,
     "metadata": {},
     "output_type": "execute_result"
    }
   ],
   "source": [
    "freq=df['PurchaseHow'].value_counts().max()\n",
    "df['PurchaseHow'].replace(np.nan, freq, inplace=True)\n",
    "df['PurchaseHow'].isnull().value_counts()"
   ]
  },
  {
   "cell_type": "code",
   "execution_count": 44,
   "id": "7c2f3738",
   "metadata": {},
   "outputs": [
    {
     "data": {
      "text/plain": [
       "False    11398\n",
       "Name: UnitTests, dtype: int64"
      ]
     },
     "execution_count": 44,
     "metadata": {},
     "output_type": "execute_result"
    }
   ],
   "source": [
    "freq=df['UnitTests'].value_counts().max()\n",
    "df['UnitTests'].replace(np.nan, freq, inplace=True)\n",
    "df['UnitTests'].isnull().value_counts()"
   ]
  },
  {
   "cell_type": "code",
   "execution_count": 45,
   "id": "75b791df",
   "metadata": {},
   "outputs": [
    {
     "data": {
      "text/plain": [
       "False    11398\n",
       "Name: CodeRev, dtype: int64"
      ]
     },
     "execution_count": 45,
     "metadata": {},
     "output_type": "execute_result"
    }
   ],
   "source": [
    "freq=df['CodeRev'].value_counts().max()\n",
    "df['CodeRev'].replace(np.nan, freq, inplace=True)\n",
    "df['CodeRev'].isnull().value_counts()"
   ]
  },
  {
   "cell_type": "code",
   "execution_count": 46,
   "id": "0731e74a",
   "metadata": {},
   "outputs": [
    {
     "data": {
      "text/plain": [
       "False    11398\n",
       "Name: ImpSyn, dtype: int64"
      ]
     },
     "execution_count": 46,
     "metadata": {},
     "output_type": "execute_result"
    }
   ],
   "source": [
    "freq=df['ImpSyn'].value_counts().max()\n",
    "df['ImpSyn'].replace(np.nan, freq, inplace=True)\n",
    "df['ImpSyn'].isnull().value_counts()"
   ]
  },
  {
   "cell_type": "code",
   "execution_count": 47,
   "id": "dfdb2e7e",
   "metadata": {},
   "outputs": [
    {
     "data": {
      "text/plain": [
       "False    11398\n",
       "Name: WorkLoc, dtype: int64"
      ]
     },
     "execution_count": 47,
     "metadata": {},
     "output_type": "execute_result"
    }
   ],
   "source": [
    "freq=df['WorkLoc'].value_counts().max()\n",
    "df['WorkLoc'].replace(np.nan, freq, inplace=True)\n",
    "df['WorkLoc'].isnull().value_counts()"
   ]
  },
  {
   "cell_type": "code",
   "execution_count": 48,
   "id": "e332d026",
   "metadata": {},
   "outputs": [
    {
     "data": {
      "text/plain": [
       "False    11398\n",
       "Name: WorkRemote, dtype: int64"
      ]
     },
     "execution_count": 48,
     "metadata": {},
     "output_type": "execute_result"
    }
   ],
   "source": [
    "freq=df['WorkRemote'].value_counts().max()\n",
    "df['WorkRemote'].replace(np.nan, freq, inplace=True)\n",
    "df['WorkRemote'].isnull().value_counts()"
   ]
  },
  {
   "cell_type": "code",
   "execution_count": 49,
   "id": "e0978d8a",
   "metadata": {},
   "outputs": [
    {
     "data": {
      "text/plain": [
       "False    11398\n",
       "Name: WorkChallenge, dtype: int64"
      ]
     },
     "execution_count": 49,
     "metadata": {},
     "output_type": "execute_result"
    }
   ],
   "source": [
    "freq=df['WorkChallenge'].value_counts().max()\n",
    "df['WorkChallenge'].replace(np.nan, freq, inplace=True)\n",
    "df['WorkChallenge'].isnull().value_counts()"
   ]
  },
  {
   "cell_type": "code",
   "execution_count": 50,
   "id": "e85c7da9",
   "metadata": {},
   "outputs": [
    {
     "data": {
      "text/plain": [
       "False    11398\n",
       "Name: WorkPlan, dtype: int64"
      ]
     },
     "execution_count": 50,
     "metadata": {},
     "output_type": "execute_result"
    }
   ],
   "source": [
    "freq=df['WorkPlan'].value_counts().max()\n",
    "df['WorkPlan'].replace(np.nan, freq, inplace=True)\n",
    "df['WorkPlan'].isnull().value_counts()"
   ]
  },
  {
   "cell_type": "code",
   "execution_count": 51,
   "id": "9f61f93d",
   "metadata": {},
   "outputs": [
    {
     "data": {
      "text/plain": [
       "False    11398\n",
       "Name: WorkWeekHrs, dtype: int64"
      ]
     },
     "execution_count": 51,
     "metadata": {},
     "output_type": "execute_result"
    }
   ],
   "source": [
    "freq=df['WorkWeekHrs'].value_counts().max()\n",
    "df['WorkWeekHrs'].replace(np.nan, freq, inplace=True)\n",
    "df['WorkWeekHrs'].isnull().value_counts()"
   ]
  },
  {
   "cell_type": "code",
   "execution_count": 52,
   "id": "51d76938",
   "metadata": {},
   "outputs": [
    {
     "data": {
      "text/plain": [
       "False    11398\n",
       "Name: ResumeUpdate, dtype: int64"
      ]
     },
     "execution_count": 52,
     "metadata": {},
     "output_type": "execute_result"
    }
   ],
   "source": [
    "freq=df['ResumeUpdate'].value_counts().max()\n",
    "df['ResumeUpdate'].replace(np.nan, freq, inplace=True)\n",
    "df['ResumeUpdate'].isnull().value_counts()"
   ]
  },
  {
   "cell_type": "code",
   "execution_count": 53,
   "id": "a68d0fb5",
   "metadata": {},
   "outputs": [
    {
     "data": {
      "text/plain": [
       "False    11398\n",
       "Name: JobFactors, dtype: int64"
      ]
     },
     "execution_count": 53,
     "metadata": {},
     "output_type": "execute_result"
    }
   ],
   "source": [
    "freq=df['JobFactors'].value_counts().max()\n",
    "df['JobFactors'].replace(np.nan, freq, inplace=True)\n",
    "df['JobFactors'].isnull().value_counts()"
   ]
  },
  {
   "cell_type": "code",
   "execution_count": 54,
   "id": "e7f0f9a2",
   "metadata": {},
   "outputs": [
    {
     "data": {
      "text/plain": [
       "False    11398\n",
       "Name: FizzBuzz, dtype: int64"
      ]
     },
     "execution_count": 54,
     "metadata": {},
     "output_type": "execute_result"
    }
   ],
   "source": [
    "freq=df['FizzBuzz'].value_counts().max()\n",
    "df['FizzBuzz'].replace(np.nan, freq, inplace=True)\n",
    "df['FizzBuzz'].isnull().value_counts()"
   ]
  },
  {
   "cell_type": "code",
   "execution_count": 55,
   "id": "11ca124d",
   "metadata": {},
   "outputs": [
    {
     "data": {
      "text/plain": [
       "False    11398\n",
       "Name: LastInt, dtype: int64"
      ]
     },
     "execution_count": 55,
     "metadata": {},
     "output_type": "execute_result"
    }
   ],
   "source": [
    "freq=df['LastInt'].value_counts().max()\n",
    "df['LastInt'].replace(np.nan, freq, inplace=True)\n",
    "df['LastInt'].isnull().value_counts()"
   ]
  },
  {
   "cell_type": "code",
   "execution_count": 56,
   "id": "1cbd3d53",
   "metadata": {},
   "outputs": [
    {
     "data": {
      "text/plain": [
       "False    11398\n",
       "Name: MgrWant, dtype: int64"
      ]
     },
     "execution_count": 56,
     "metadata": {},
     "output_type": "execute_result"
    }
   ],
   "source": [
    "freq=df['MgrWant'].value_counts().max()\n",
    "df['MgrWant'].replace(np.nan, freq, inplace=True)\n",
    "df['MgrWant'].isnull().value_counts()"
   ]
  },
  {
   "cell_type": "code",
   "execution_count": 57,
   "id": "ccde10b1",
   "metadata": {},
   "outputs": [
    {
     "data": {
      "text/plain": [
       "False    11398\n",
       "Name: MgrMoney, dtype: int64"
      ]
     },
     "execution_count": 57,
     "metadata": {},
     "output_type": "execute_result"
    }
   ],
   "source": [
    "freq=df['MgrMoney'].value_counts().max()\n",
    "df['MgrMoney'].replace(np.nan, freq, inplace=True)\n",
    "df['MgrMoney'].isnull().value_counts()"
   ]
  },
  {
   "cell_type": "code",
   "execution_count": 58,
   "id": "ada7d641",
   "metadata": {},
   "outputs": [
    {
     "data": {
      "text/plain": [
       "False    11398\n",
       "Name: MgrIdiot, dtype: int64"
      ]
     },
     "execution_count": 58,
     "metadata": {},
     "output_type": "execute_result"
    }
   ],
   "source": [
    "freq=df['MgrIdiot'].value_counts().max()\n",
    "df['MgrIdiot'].replace(np.nan, freq, inplace=True)\n",
    "df['MgrIdiot'].isnull().value_counts()"
   ]
  },
  {
   "cell_type": "code",
   "execution_count": 59,
   "id": "a9de9acf",
   "metadata": {},
   "outputs": [
    {
     "data": {
      "text/plain": [
       "False    11398\n",
       "Name: JobSat, dtype: int64"
      ]
     },
     "execution_count": 59,
     "metadata": {},
     "output_type": "execute_result"
    }
   ],
   "source": [
    "freq=df['JobSat'].value_counts().max()\n",
    "df['JobSat'].replace(np.nan, freq, inplace=True)\n",
    "df['JobSat'].isnull().value_counts()"
   ]
  },
  {
   "cell_type": "code",
   "execution_count": 60,
   "id": "6ad117c0",
   "metadata": {},
   "outputs": [
    {
     "data": {
      "text/plain": [
       "False    11398\n",
       "Name: JobSat, dtype: int64"
      ]
     },
     "execution_count": 60,
     "metadata": {},
     "output_type": "execute_result"
    }
   ],
   "source": [
    "freq=df['JobSat'].value_counts().max()\n",
    "df['JobSat'].replace(np.nan, freq, inplace=True)\n",
    "df['JobSat'].isnull().value_counts()"
   ]
  },
  {
   "cell_type": "code",
   "execution_count": 61,
   "id": "fd1f5673",
   "metadata": {},
   "outputs": [
    {
     "data": {
      "text/plain": [
       "False    11398\n",
       "Name: YearsCodePro, dtype: int64"
      ]
     },
     "execution_count": 61,
     "metadata": {},
     "output_type": "execute_result"
    }
   ],
   "source": [
    "freq=df['YearsCodePro'].value_counts().max()\n",
    "df['YearsCodePro'].replace(np.nan, freq, inplace=True)\n",
    "df['YearsCodePro'].isnull().value_counts()"
   ]
  },
  {
   "cell_type": "code",
   "execution_count": 62,
   "id": "61e71104",
   "metadata": {},
   "outputs": [
    {
     "data": {
      "text/plain": [
       "False    11398\n",
       "Name: Age1stCode, dtype: int64"
      ]
     },
     "execution_count": 62,
     "metadata": {},
     "output_type": "execute_result"
    }
   ],
   "source": [
    "freq=df['Age1stCode'].value_counts().max()\n",
    "df['Age1stCode'].replace(np.nan, freq, inplace=True)\n",
    "df['Age1stCode'].isnull().value_counts()"
   ]
  },
  {
   "cell_type": "code",
   "execution_count": 63,
   "id": "ee74c08e",
   "metadata": {},
   "outputs": [
    {
     "data": {
      "text/plain": [
       "False    11398\n",
       "Name: YearsCode, dtype: int64"
      ]
     },
     "execution_count": 63,
     "metadata": {},
     "output_type": "execute_result"
    }
   ],
   "source": [
    "freq=df['YearsCode'].value_counts().max()\n",
    "df['YearsCode'].replace(np.nan, freq, inplace=True)\n",
    "df['YearsCode'].isnull().value_counts()"
   ]
  },
  {
   "cell_type": "code",
   "execution_count": 64,
   "id": "5ff2c0de",
   "metadata": {},
   "outputs": [
    {
     "data": {
      "text/plain": [
       "False    11398\n",
       "Name: DevType, dtype: int64"
      ]
     },
     "execution_count": 64,
     "metadata": {},
     "output_type": "execute_result"
    }
   ],
   "source": [
    "freq=df['DevType'].value_counts().max()\n",
    "df['DevType'].replace(np.nan, freq, inplace=True)\n",
    "df['DevType'].isnull().value_counts()"
   ]
  },
  {
   "cell_type": "code",
   "execution_count": 65,
   "id": "3d00cbf0",
   "metadata": {},
   "outputs": [
    {
     "data": {
      "text/plain": [
       "False    11398\n",
       "Name: EduOther, dtype: int64"
      ]
     },
     "execution_count": 65,
     "metadata": {},
     "output_type": "execute_result"
    }
   ],
   "source": [
    "freq=df['EduOther'].value_counts().max()\n",
    "df['EduOther'].replace(np.nan, freq, inplace=True)\n",
    "df['EduOther'].isnull().value_counts()"
   ]
  },
  {
   "cell_type": "code",
   "execution_count": 66,
   "id": "91d928d9",
   "metadata": {},
   "outputs": [
    {
     "data": {
      "text/plain": [
       "False    11398\n",
       "Name: OrgSize, dtype: int64"
      ]
     },
     "execution_count": 66,
     "metadata": {},
     "output_type": "execute_result"
    }
   ],
   "source": [
    "freq=df['OrgSize'].value_counts().max()\n",
    "df['OrgSize'].replace(np.nan, freq, inplace=True)\n",
    "df['OrgSize'].isnull().value_counts()"
   ]
  },
  {
   "cell_type": "code",
   "execution_count": 67,
   "id": "630084b3",
   "metadata": {},
   "outputs": [
    {
     "data": {
      "text/plain": [
       "False    11398\n",
       "Name: OpenSourcer, dtype: int64"
      ]
     },
     "execution_count": 67,
     "metadata": {},
     "output_type": "execute_result"
    }
   ],
   "source": [
    "freq=df['OpenSource'].value_counts().max()\n",
    "df['OpenSource'].replace(np.nan, freq, inplace=True)\n",
    "df['OpenSourcer'].isnull().value_counts()"
   ]
  },
  {
   "cell_type": "code",
   "execution_count": 68,
   "id": "7bb6fa20",
   "metadata": {},
   "outputs": [
    {
     "data": {
      "text/plain": [
       "False    11398\n",
       "Name: Student, dtype: int64"
      ]
     },
     "execution_count": 68,
     "metadata": {},
     "output_type": "execute_result"
    }
   ],
   "source": [
    "freq=df['Student'].value_counts().max()\n",
    "df['Student'].replace(np.nan, freq, inplace=True)\n",
    "df['Student'].isnull().value_counts()"
   ]
  },
  {
   "cell_type": "code",
   "execution_count": 69,
   "id": "010892fc",
   "metadata": {},
   "outputs": [
    {
     "data": {
      "text/plain": [
       "False    11398\n",
       "Name: EdLevel, dtype: int64"
      ]
     },
     "execution_count": 69,
     "metadata": {},
     "output_type": "execute_result"
    }
   ],
   "source": [
    "freq=df['EdLevel'].value_counts().max()\n",
    "df['EdLevel'].replace(np.nan, freq, inplace=True)\n",
    "df['EdLevel'].isnull().value_counts()"
   ]
  },
  {
   "cell_type": "code",
   "execution_count": 70,
   "id": "a7ad274f",
   "metadata": {},
   "outputs": [
    {
     "data": {
      "text/plain": [
       "False    11398\n",
       "Name: UndergradMajor, dtype: int64"
      ]
     },
     "execution_count": 70,
     "metadata": {},
     "output_type": "execute_result"
    }
   ],
   "source": [
    "freq=df['UndergradMajor'].value_counts().max()\n",
    "df['UndergradMajor'].replace(np.nan, freq, inplace=True)\n",
    "df['UndergradMajor'].isnull().value_counts()"
   ]
  },
  {
   "cell_type": "code",
   "execution_count": 71,
   "id": "a7e674d7",
   "metadata": {},
   "outputs": [],
   "source": [
    "df.drop(['CodeRevHrs', 'MiscTechWorkedWith', 'MiscTechDesireNextYear','BlockchainOrg','BlockchainIs','SOHowMuchTime','SONewContent'], axis=1, inplace=True)"
   ]
  },
  {
   "cell_type": "code",
   "execution_count": 72,
   "id": "d4bbac19",
   "metadata": {},
   "outputs": [
    {
     "data": {
      "text/plain": [
       "False    11398\n",
       "Name: DatabaseDesireNextYear, dtype: int64"
      ]
     },
     "execution_count": 72,
     "metadata": {},
     "output_type": "execute_result"
    }
   ],
   "source": [
    "df['DatabaseDesireNextYear'].fillna(method=\"ffill\",inplace=True)\n",
    "df['DatabaseDesireNextYear'].isnull().value_counts()"
   ]
  },
  {
   "cell_type": "code",
   "execution_count": 73,
   "id": "58a72236",
   "metadata": {},
   "outputs": [],
   "source": [
    "df['WebFrameDesireNextYear'].fillna(method=\"ffill\",inplace=True)"
   ]
  },
  {
   "cell_type": "code",
   "execution_count": 74,
   "id": "ed9f7f03",
   "metadata": {},
   "outputs": [],
   "source": [
    "df['WebFrameWorkedWith'].fillna(method=\"ffill\",inplace=True)"
   ]
  },
  {
   "cell_type": "code",
   "execution_count": 75,
   "id": "1fa9f6b1",
   "metadata": {},
   "outputs": [],
   "source": [
    "df['SOPartFreq'].fillna(method=\"ffill\",inplace=True)"
   ]
  },
  {
   "cell_type": "code",
   "execution_count": 76,
   "id": "ddcbea95",
   "metadata": {},
   "outputs": [
    {
     "data": {
      "text/plain": [
       "False    10582\n",
       "Name: ConvertedComp, dtype: int64"
      ]
     },
     "execution_count": 76,
     "metadata": {},
     "output_type": "execute_result"
    }
   ],
   "source": [
    "df.dropna(subset=[\"ConvertedComp\"], axis=0,inplace=True)\n",
    "df['ConvertedComp'].isnull().value_counts()"
   ]
  },
  {
   "cell_type": "code",
   "execution_count": 77,
   "id": "cd80e70f",
   "metadata": {},
   "outputs": [],
   "source": [
    "df.reset_index(drop=True, inplace=True)"
   ]
  },
  {
   "cell_type": "markdown",
   "id": "0826587c",
   "metadata": {},
   "source": [
    "**Verifying if any missing values are still there.**"
   ]
  },
  {
   "cell_type": "code",
   "execution_count": 78,
   "id": "bb94821e",
   "metadata": {},
   "outputs": [
    {
     "name": "stdout",
     "output_type": "stream",
     "text": [
      "Respondent\n",
      "False    10582\n",
      "Name: Respondent, dtype: int64\n",
      "\n",
      "MainBranch\n",
      "False    10582\n",
      "Name: MainBranch, dtype: int64\n",
      "\n",
      "Hobbyist\n",
      "False    10582\n",
      "Name: Hobbyist, dtype: int64\n",
      "\n",
      "OpenSourcer\n",
      "False    10582\n",
      "Name: OpenSourcer, dtype: int64\n",
      "\n",
      "OpenSource\n",
      "False    10582\n",
      "Name: OpenSource, dtype: int64\n",
      "\n",
      "Employment\n",
      "False    10582\n",
      "Name: Employment, dtype: int64\n",
      "\n",
      "Country\n",
      "False    10582\n",
      "Name: Country, dtype: int64\n",
      "\n",
      "Student\n",
      "False    10582\n",
      "Name: Student, dtype: int64\n",
      "\n",
      "EdLevel\n",
      "False    10582\n",
      "Name: EdLevel, dtype: int64\n",
      "\n",
      "UndergradMajor\n",
      "False    10582\n",
      "Name: UndergradMajor, dtype: int64\n",
      "\n",
      "EduOther\n",
      "False    10582\n",
      "Name: EduOther, dtype: int64\n",
      "\n",
      "OrgSize\n",
      "False    10582\n",
      "Name: OrgSize, dtype: int64\n",
      "\n",
      "DevType\n",
      "False    10582\n",
      "Name: DevType, dtype: int64\n",
      "\n",
      "YearsCode\n",
      "False    10582\n",
      "Name: YearsCode, dtype: int64\n",
      "\n",
      "Age1stCode\n",
      "False    10582\n",
      "Name: Age1stCode, dtype: int64\n",
      "\n",
      "YearsCodePro\n",
      "False    10582\n",
      "Name: YearsCodePro, dtype: int64\n",
      "\n",
      "CareerSat\n",
      "False    10582\n",
      "Name: CareerSat, dtype: int64\n",
      "\n",
      "JobSat\n",
      "False    10582\n",
      "Name: JobSat, dtype: int64\n",
      "\n",
      "MgrIdiot\n",
      "False    10582\n",
      "Name: MgrIdiot, dtype: int64\n",
      "\n",
      "MgrMoney\n",
      "False    10582\n",
      "Name: MgrMoney, dtype: int64\n",
      "\n",
      "MgrWant\n",
      "False    10582\n",
      "Name: MgrWant, dtype: int64\n",
      "\n",
      "JobSeek\n",
      "False    10582\n",
      "Name: JobSeek, dtype: int64\n",
      "\n",
      "LastHireDate\n",
      "False    10582\n",
      "Name: LastHireDate, dtype: int64\n",
      "\n",
      "LastInt\n",
      "False    10582\n",
      "Name: LastInt, dtype: int64\n",
      "\n",
      "FizzBuzz\n",
      "False    10582\n",
      "Name: FizzBuzz, dtype: int64\n",
      "\n",
      "JobFactors\n",
      "False    10582\n",
      "Name: JobFactors, dtype: int64\n",
      "\n",
      "ResumeUpdate\n",
      "False    10582\n",
      "Name: ResumeUpdate, dtype: int64\n",
      "\n",
      "CurrencySymbol\n",
      "False    10582\n",
      "Name: CurrencySymbol, dtype: int64\n",
      "\n",
      "CurrencyDesc\n",
      "False    10582\n",
      "Name: CurrencyDesc, dtype: int64\n",
      "\n",
      "CompTotal\n",
      "False    10582\n",
      "Name: CompTotal, dtype: int64\n",
      "\n",
      "CompFreq\n",
      "False    10582\n",
      "Name: CompFreq, dtype: int64\n",
      "\n",
      "ConvertedComp\n",
      "False    10582\n",
      "Name: ConvertedComp, dtype: int64\n",
      "\n",
      "WorkWeekHrs\n",
      "False    10582\n",
      "Name: WorkWeekHrs, dtype: int64\n",
      "\n",
      "WorkPlan\n",
      "False    10582\n",
      "Name: WorkPlan, dtype: int64\n",
      "\n",
      "WorkChallenge\n",
      "False    10582\n",
      "Name: WorkChallenge, dtype: int64\n",
      "\n",
      "WorkRemote\n",
      "False    10582\n",
      "Name: WorkRemote, dtype: int64\n",
      "\n",
      "WorkLoc\n",
      "False    10582\n",
      "Name: WorkLoc, dtype: int64\n",
      "\n",
      "ImpSyn\n",
      "False    10582\n",
      "Name: ImpSyn, dtype: int64\n",
      "\n",
      "CodeRev\n",
      "False    10582\n",
      "Name: CodeRev, dtype: int64\n",
      "\n",
      "UnitTests\n",
      "False    10582\n",
      "Name: UnitTests, dtype: int64\n",
      "\n",
      "PurchaseHow\n",
      "False    10582\n",
      "Name: PurchaseHow, dtype: int64\n",
      "\n",
      "PurchaseWhat\n",
      "False    10582\n",
      "Name: PurchaseWhat, dtype: int64\n",
      "\n",
      "LanguageWorkedWith\n",
      "False    10582\n",
      "Name: LanguageWorkedWith, dtype: int64\n",
      "\n",
      "LanguageDesireNextYear\n",
      "False    10582\n",
      "Name: LanguageDesireNextYear, dtype: int64\n",
      "\n",
      "DatabaseWorkedWith\n",
      "False    10582\n",
      "Name: DatabaseWorkedWith, dtype: int64\n",
      "\n",
      "DatabaseDesireNextYear\n",
      "False    10582\n",
      "Name: DatabaseDesireNextYear, dtype: int64\n",
      "\n",
      "PlatformWorkedWith\n",
      "False    10582\n",
      "Name: PlatformWorkedWith, dtype: int64\n",
      "\n",
      "PlatformDesireNextYear\n",
      "False    10582\n",
      "Name: PlatformDesireNextYear, dtype: int64\n",
      "\n",
      "WebFrameWorkedWith\n",
      "False    10581\n",
      "True         1\n",
      "Name: WebFrameWorkedWith, dtype: int64\n",
      "\n",
      "WebFrameDesireNextYear\n",
      "False    10581\n",
      "True         1\n",
      "Name: WebFrameDesireNextYear, dtype: int64\n",
      "\n",
      "DevEnviron\n",
      "False    10582\n",
      "Name: DevEnviron, dtype: int64\n",
      "\n",
      "OpSys\n",
      "False    10582\n",
      "Name: OpSys, dtype: int64\n",
      "\n",
      "Containers\n",
      "False    10582\n",
      "Name: Containers, dtype: int64\n",
      "\n",
      "BetterLife\n",
      "False    10582\n",
      "Name: BetterLife, dtype: int64\n",
      "\n",
      "ITperson\n",
      "False    10582\n",
      "Name: ITperson, dtype: int64\n",
      "\n",
      "OffOn\n",
      "False    10582\n",
      "Name: OffOn, dtype: int64\n",
      "\n",
      "SocialMedia\n",
      "False    10582\n",
      "Name: SocialMedia, dtype: int64\n",
      "\n",
      "Extraversion\n",
      "False    10582\n",
      "Name: Extraversion, dtype: int64\n",
      "\n",
      "ScreenName\n",
      "False    10582\n",
      "Name: ScreenName, dtype: int64\n",
      "\n",
      "SOVisit1st\n",
      "False    10582\n",
      "Name: SOVisit1st, dtype: int64\n",
      "\n",
      "SOVisitFreq\n",
      "False    10582\n",
      "Name: SOVisitFreq, dtype: int64\n",
      "\n",
      "SOVisitTo\n",
      "False    10582\n",
      "Name: SOVisitTo, dtype: int64\n",
      "\n",
      "SOFindAnswer\n",
      "False    10582\n",
      "Name: SOFindAnswer, dtype: int64\n",
      "\n",
      "SOTimeSaved\n",
      "False    10582\n",
      "Name: SOTimeSaved, dtype: int64\n",
      "\n",
      "SOAccount\n",
      "False    10582\n",
      "Name: SOAccount, dtype: int64\n",
      "\n",
      "SOPartFreq\n",
      "False    10582\n",
      "Name: SOPartFreq, dtype: int64\n",
      "\n",
      "SOJobs\n",
      "False    10582\n",
      "Name: SOJobs, dtype: int64\n",
      "\n",
      "EntTeams\n",
      "False    10582\n",
      "Name: EntTeams, dtype: int64\n",
      "\n",
      "SOComm\n",
      "False    10582\n",
      "Name: SOComm, dtype: int64\n",
      "\n",
      "WelcomeChange\n",
      "False    10582\n",
      "Name: WelcomeChange, dtype: int64\n",
      "\n",
      "Age\n",
      "False    10582\n",
      "Name: Age, dtype: int64\n",
      "\n",
      "Gender\n",
      "False    10582\n",
      "Name: Gender, dtype: int64\n",
      "\n",
      "Trans\n",
      "False    10582\n",
      "Name: Trans, dtype: int64\n",
      "\n",
      "Sexuality\n",
      "False    10582\n",
      "Name: Sexuality, dtype: int64\n",
      "\n",
      "Ethnicity\n",
      "False    10582\n",
      "Name: Ethnicity, dtype: int64\n",
      "\n",
      "Dependents\n",
      "False    10582\n",
      "Name: Dependents, dtype: int64\n",
      "\n",
      "SurveyLength\n",
      "False    10582\n",
      "Name: SurveyLength, dtype: int64\n",
      "\n",
      "SurveyEase\n",
      "False    10582\n",
      "Name: SurveyEase, dtype: int64\n",
      "\n"
     ]
    }
   ],
   "source": [
    "\n",
    "missing_data = df.isnull()\n",
    "for column in missing_data.columns.values.tolist():\n",
    "    print(column)\n",
    "    print (missing_data[column].value_counts())\n",
    "    print(\"\") "
   ]
  },
  {
   "cell_type": "markdown",
   "id": "f61efc97",
   "metadata": {},
   "source": [
    "**No missing values are found.**"
   ]
  },
  {
   "cell_type": "code",
   "execution_count": 79,
   "id": "8f0e9308",
   "metadata": {},
   "outputs": [],
   "source": [
    "df1=df"
   ]
  },
  {
   "cell_type": "markdown",
   "id": "f3476cc1",
   "metadata": {},
   "source": [
    "## Normalisation"
   ]
  },
  {
   "cell_type": "markdown",
   "id": "d3bba460",
   "metadata": {},
   "source": [
    "There are two columns in the dataset that talk about compensation.\n",
    "\n",
    "One is \"CompFreq\". This column shows how often a developer is paid (Yearly, Monthly, Weekly).\n",
    "\n",
    "The other is \"CompTotal\". This column talks about how much the developer is paid per Year, Month, or Week depending upon his/her \"CompFreq\".\n",
    "\n",
    "This makes it difficult to compare the total compensation of the developers.\n",
    "\n",
    "In this section you will create a new column called 'NormalizedAnnualCompensation' which contains the 'Annual Compensation' irrespective of the 'CompFreq'.\n",
    "\n",
    "Once this column is ready, it makes comparison of salaries easy."
   ]
  },
  {
   "cell_type": "code",
   "execution_count": 80,
   "id": "217173aa",
   "metadata": {},
   "outputs": [
    {
     "data": {
      "text/html": [
       "<div>\n",
       "<style scoped>\n",
       "    .dataframe tbody tr th:only-of-type {\n",
       "        vertical-align: middle;\n",
       "    }\n",
       "\n",
       "    .dataframe tbody tr th {\n",
       "        vertical-align: top;\n",
       "    }\n",
       "\n",
       "    .dataframe thead th {\n",
       "        text-align: right;\n",
       "    }\n",
       "</style>\n",
       "<table border=\"1\" class=\"dataframe\">\n",
       "  <thead>\n",
       "    <tr style=\"text-align: right;\">\n",
       "      <th></th>\n",
       "      <th>Respondent</th>\n",
       "      <th>MainBranch</th>\n",
       "      <th>Hobbyist</th>\n",
       "      <th>OpenSourcer</th>\n",
       "      <th>OpenSource</th>\n",
       "      <th>Employment</th>\n",
       "      <th>Country</th>\n",
       "      <th>Student</th>\n",
       "      <th>EdLevel</th>\n",
       "      <th>UndergradMajor</th>\n",
       "      <th>...</th>\n",
       "      <th>SOComm</th>\n",
       "      <th>WelcomeChange</th>\n",
       "      <th>Age</th>\n",
       "      <th>Gender</th>\n",
       "      <th>Trans</th>\n",
       "      <th>Sexuality</th>\n",
       "      <th>Ethnicity</th>\n",
       "      <th>Dependents</th>\n",
       "      <th>SurveyLength</th>\n",
       "      <th>SurveyEase</th>\n",
       "    </tr>\n",
       "  </thead>\n",
       "  <tbody>\n",
       "    <tr>\n",
       "      <th>0</th>\n",
       "      <td>4</td>\n",
       "      <td>I am a developer by profession</td>\n",
       "      <td>No</td>\n",
       "      <td>Never</td>\n",
       "      <td>The quality of OSS and closed source software ...</td>\n",
       "      <td>Employed full-time</td>\n",
       "      <td>United States</td>\n",
       "      <td>No</td>\n",
       "      <td>Bachelor’s degree (BA, BS, B.Eng., etc.)</td>\n",
       "      <td>Computer science, computer engineering, or sof...</td>\n",
       "      <td>...</td>\n",
       "      <td>No, not really</td>\n",
       "      <td>Just as welcome now as I felt last year</td>\n",
       "      <td>22.0</td>\n",
       "      <td>Man</td>\n",
       "      <td>No</td>\n",
       "      <td>Straight / Heterosexual</td>\n",
       "      <td>White or of European descent</td>\n",
       "      <td>No</td>\n",
       "      <td>Appropriate in length</td>\n",
       "      <td>Easy</td>\n",
       "    </tr>\n",
       "    <tr>\n",
       "      <th>1</th>\n",
       "      <td>9</td>\n",
       "      <td>I am a developer by profession</td>\n",
       "      <td>Yes</td>\n",
       "      <td>Once a month or more often</td>\n",
       "      <td>The quality of OSS and closed source software ...</td>\n",
       "      <td>Employed full-time</td>\n",
       "      <td>New Zealand</td>\n",
       "      <td>No</td>\n",
       "      <td>Some college/university study without earning ...</td>\n",
       "      <td>Computer science, computer engineering, or sof...</td>\n",
       "      <td>...</td>\n",
       "      <td>Yes, somewhat</td>\n",
       "      <td>Just as welcome now as I felt last year</td>\n",
       "      <td>23.0</td>\n",
       "      <td>Man</td>\n",
       "      <td>No</td>\n",
       "      <td>Bisexual</td>\n",
       "      <td>White or of European descent</td>\n",
       "      <td>No</td>\n",
       "      <td>Appropriate in length</td>\n",
       "      <td>Neither easy nor difficult</td>\n",
       "    </tr>\n",
       "    <tr>\n",
       "      <th>2</th>\n",
       "      <td>13</td>\n",
       "      <td>I am a developer by profession</td>\n",
       "      <td>Yes</td>\n",
       "      <td>Less than once a month but more than once per ...</td>\n",
       "      <td>OSS is, on average, of HIGHER quality than pro...</td>\n",
       "      <td>Employed full-time</td>\n",
       "      <td>United States</td>\n",
       "      <td>No</td>\n",
       "      <td>Master’s degree (MA, MS, M.Eng., MBA, etc.)</td>\n",
       "      <td>Computer science, computer engineering, or sof...</td>\n",
       "      <td>...</td>\n",
       "      <td>Neutral</td>\n",
       "      <td>Somewhat more welcome now than last year</td>\n",
       "      <td>28.0</td>\n",
       "      <td>Man</td>\n",
       "      <td>No</td>\n",
       "      <td>Straight / Heterosexual</td>\n",
       "      <td>White or of European descent</td>\n",
       "      <td>Yes</td>\n",
       "      <td>Appropriate in length</td>\n",
       "      <td>Easy</td>\n",
       "    </tr>\n",
       "    <tr>\n",
       "      <th>3</th>\n",
       "      <td>16</td>\n",
       "      <td>I am a developer by profession</td>\n",
       "      <td>Yes</td>\n",
       "      <td>Never</td>\n",
       "      <td>The quality of OSS and closed source software ...</td>\n",
       "      <td>Employed full-time</td>\n",
       "      <td>United Kingdom</td>\n",
       "      <td>No</td>\n",
       "      <td>Master’s degree (MA, MS, M.Eng., MBA, etc.)</td>\n",
       "      <td>6953</td>\n",
       "      <td>...</td>\n",
       "      <td>Yes, somewhat</td>\n",
       "      <td>Just as welcome now as I felt last year</td>\n",
       "      <td>26.0</td>\n",
       "      <td>Man</td>\n",
       "      <td>No</td>\n",
       "      <td>Straight / Heterosexual</td>\n",
       "      <td>White or of European descent</td>\n",
       "      <td>No</td>\n",
       "      <td>Appropriate in length</td>\n",
       "      <td>Neither easy nor difficult</td>\n",
       "    </tr>\n",
       "    <tr>\n",
       "      <th>4</th>\n",
       "      <td>17</td>\n",
       "      <td>I am a developer by profession</td>\n",
       "      <td>Yes</td>\n",
       "      <td>Less than once a month but more than once per ...</td>\n",
       "      <td>The quality of OSS and closed source software ...</td>\n",
       "      <td>Employed full-time</td>\n",
       "      <td>Australia</td>\n",
       "      <td>No</td>\n",
       "      <td>Bachelor’s degree (BA, BS, B.Eng., etc.)</td>\n",
       "      <td>Computer science, computer engineering, or sof...</td>\n",
       "      <td>...</td>\n",
       "      <td>Yes, somewhat</td>\n",
       "      <td>Just as welcome now as I felt last year</td>\n",
       "      <td>29.0</td>\n",
       "      <td>Man</td>\n",
       "      <td>No</td>\n",
       "      <td>Straight / Heterosexual</td>\n",
       "      <td>Hispanic or Latino/Latina;Multiracial</td>\n",
       "      <td>No</td>\n",
       "      <td>Appropriate in length</td>\n",
       "      <td>Easy</td>\n",
       "    </tr>\n",
       "  </tbody>\n",
       "</table>\n",
       "<p>5 rows × 78 columns</p>\n",
       "</div>"
      ],
      "text/plain": [
       "   Respondent                      MainBranch Hobbyist  \\\n",
       "0           4  I am a developer by profession       No   \n",
       "1           9  I am a developer by profession      Yes   \n",
       "2          13  I am a developer by profession      Yes   \n",
       "3          16  I am a developer by profession      Yes   \n",
       "4          17  I am a developer by profession      Yes   \n",
       "\n",
       "                                         OpenSourcer  \\\n",
       "0                                              Never   \n",
       "1                         Once a month or more often   \n",
       "2  Less than once a month but more than once per ...   \n",
       "3                                              Never   \n",
       "4  Less than once a month but more than once per ...   \n",
       "\n",
       "                                          OpenSource          Employment  \\\n",
       "0  The quality of OSS and closed source software ...  Employed full-time   \n",
       "1  The quality of OSS and closed source software ...  Employed full-time   \n",
       "2  OSS is, on average, of HIGHER quality than pro...  Employed full-time   \n",
       "3  The quality of OSS and closed source software ...  Employed full-time   \n",
       "4  The quality of OSS and closed source software ...  Employed full-time   \n",
       "\n",
       "          Country Student                                            EdLevel  \\\n",
       "0   United States      No           Bachelor’s degree (BA, BS, B.Eng., etc.)   \n",
       "1     New Zealand      No  Some college/university study without earning ...   \n",
       "2   United States      No        Master’s degree (MA, MS, M.Eng., MBA, etc.)   \n",
       "3  United Kingdom      No        Master’s degree (MA, MS, M.Eng., MBA, etc.)   \n",
       "4       Australia      No           Bachelor’s degree (BA, BS, B.Eng., etc.)   \n",
       "\n",
       "                                      UndergradMajor  ...          SOComm  \\\n",
       "0  Computer science, computer engineering, or sof...  ...  No, not really   \n",
       "1  Computer science, computer engineering, or sof...  ...   Yes, somewhat   \n",
       "2  Computer science, computer engineering, or sof...  ...         Neutral   \n",
       "3                                               6953  ...   Yes, somewhat   \n",
       "4  Computer science, computer engineering, or sof...  ...   Yes, somewhat   \n",
       "\n",
       "                              WelcomeChange   Age Gender Trans  \\\n",
       "0   Just as welcome now as I felt last year  22.0    Man    No   \n",
       "1   Just as welcome now as I felt last year  23.0    Man    No   \n",
       "2  Somewhat more welcome now than last year  28.0    Man    No   \n",
       "3   Just as welcome now as I felt last year  26.0    Man    No   \n",
       "4   Just as welcome now as I felt last year  29.0    Man    No   \n",
       "\n",
       "                 Sexuality                              Ethnicity Dependents  \\\n",
       "0  Straight / Heterosexual           White or of European descent         No   \n",
       "1                 Bisexual           White or of European descent         No   \n",
       "2  Straight / Heterosexual           White or of European descent        Yes   \n",
       "3  Straight / Heterosexual           White or of European descent         No   \n",
       "4  Straight / Heterosexual  Hispanic or Latino/Latina;Multiracial         No   \n",
       "\n",
       "            SurveyLength                  SurveyEase  \n",
       "0  Appropriate in length                        Easy  \n",
       "1  Appropriate in length  Neither easy nor difficult  \n",
       "2  Appropriate in length                        Easy  \n",
       "3  Appropriate in length  Neither easy nor difficult  \n",
       "4  Appropriate in length                        Easy  \n",
       "\n",
       "[5 rows x 78 columns]"
      ]
     },
     "execution_count": 80,
     "metadata": {},
     "output_type": "execute_result"
    }
   ],
   "source": [
    "df1.head()"
   ]
  },
  {
   "cell_type": "code",
   "execution_count": 81,
   "id": "bf47b06d",
   "metadata": {},
   "outputs": [],
   "source": [
    "df1.loc[df['CompFreq'] == 'Monthly', 'NormalizedAnnualCompensation'] = df1['CompTotal']*12\n",
    "df1.loc[df['CompFreq'] == 'Weekly', 'NormalizedAnnualCompensation'] = df1['CompTotal']*52\n",
    "df1.loc[df['CompFreq'] == 'Yearly', 'NormalizedAnnualCompensation'] = df1['CompTotal']*1"
   ]
  },
  {
   "cell_type": "code",
   "execution_count": 82,
   "id": "cb90061c",
   "metadata": {},
   "outputs": [
    {
     "data": {
      "text/html": [
       "<div>\n",
       "<style scoped>\n",
       "    .dataframe tbody tr th:only-of-type {\n",
       "        vertical-align: middle;\n",
       "    }\n",
       "\n",
       "    .dataframe tbody tr th {\n",
       "        vertical-align: top;\n",
       "    }\n",
       "\n",
       "    .dataframe thead th {\n",
       "        text-align: right;\n",
       "    }\n",
       "</style>\n",
       "<table border=\"1\" class=\"dataframe\">\n",
       "  <thead>\n",
       "    <tr style=\"text-align: right;\">\n",
       "      <th></th>\n",
       "      <th>NormalizedAnnualCompensation</th>\n",
       "      <th>CompTotal</th>\n",
       "    </tr>\n",
       "  </thead>\n",
       "  <tbody>\n",
       "    <tr>\n",
       "      <th>0</th>\n",
       "      <td>61000.0</td>\n",
       "      <td>61000.0</td>\n",
       "    </tr>\n",
       "    <tr>\n",
       "      <th>1</th>\n",
       "      <td>138000.0</td>\n",
       "      <td>138000.0</td>\n",
       "    </tr>\n",
       "    <tr>\n",
       "      <th>2</th>\n",
       "      <td>90000.0</td>\n",
       "      <td>90000.0</td>\n",
       "    </tr>\n",
       "    <tr>\n",
       "      <th>3</th>\n",
       "      <td>348000.0</td>\n",
       "      <td>29000.0</td>\n",
       "    </tr>\n",
       "    <tr>\n",
       "      <th>4</th>\n",
       "      <td>90000.0</td>\n",
       "      <td>90000.0</td>\n",
       "    </tr>\n",
       "    <tr>\n",
       "      <th>5</th>\n",
       "      <td>114000.0</td>\n",
       "      <td>9500.0</td>\n",
       "    </tr>\n",
       "    <tr>\n",
       "      <th>6</th>\n",
       "      <td>36000.0</td>\n",
       "      <td>3000.0</td>\n",
       "    </tr>\n",
       "    <tr>\n",
       "      <th>7</th>\n",
       "      <td>103000.0</td>\n",
       "      <td>103000.0</td>\n",
       "    </tr>\n",
       "    <tr>\n",
       "      <th>8</th>\n",
       "      <td>69000.0</td>\n",
       "      <td>69000.0</td>\n",
       "    </tr>\n",
       "    <tr>\n",
       "      <th>9</th>\n",
       "      <td>96000.0</td>\n",
       "      <td>8000.0</td>\n",
       "    </tr>\n",
       "    <tr>\n",
       "      <th>10</th>\n",
       "      <td>84000.0</td>\n",
       "      <td>7000.0</td>\n",
       "    </tr>\n",
       "    <tr>\n",
       "      <th>11</th>\n",
       "      <td>114000.0</td>\n",
       "      <td>114000.0</td>\n",
       "    </tr>\n",
       "    <tr>\n",
       "      <th>12</th>\n",
       "      <td>104000.0</td>\n",
       "      <td>2000.0</td>\n",
       "    </tr>\n",
       "    <tr>\n",
       "      <th>13</th>\n",
       "      <td>1144000.0</td>\n",
       "      <td>22000.0</td>\n",
       "    </tr>\n",
       "    <tr>\n",
       "      <th>14</th>\n",
       "      <td>1152000.0</td>\n",
       "      <td>96000.0</td>\n",
       "    </tr>\n",
       "    <tr>\n",
       "      <th>15</th>\n",
       "      <td>156000.0</td>\n",
       "      <td>156000.0</td>\n",
       "    </tr>\n",
       "    <tr>\n",
       "      <th>16</th>\n",
       "      <td>18000.0</td>\n",
       "      <td>18000.0</td>\n",
       "    </tr>\n",
       "    <tr>\n",
       "      <th>17</th>\n",
       "      <td>76800.0</td>\n",
       "      <td>6400.0</td>\n",
       "    </tr>\n",
       "    <tr>\n",
       "      <th>18</th>\n",
       "      <td>60000.0</td>\n",
       "      <td>5000.0</td>\n",
       "    </tr>\n",
       "    <tr>\n",
       "      <th>19</th>\n",
       "      <td>400000.0</td>\n",
       "      <td>400000.0</td>\n",
       "    </tr>\n",
       "    <tr>\n",
       "      <th>20</th>\n",
       "      <td>47300.0</td>\n",
       "      <td>47300.0</td>\n",
       "    </tr>\n",
       "    <tr>\n",
       "      <th>21</th>\n",
       "      <td>618000.0</td>\n",
       "      <td>51500.0</td>\n",
       "    </tr>\n",
       "    <tr>\n",
       "      <th>22</th>\n",
       "      <td>345000.0</td>\n",
       "      <td>345000.0</td>\n",
       "    </tr>\n",
       "    <tr>\n",
       "      <th>23</th>\n",
       "      <td>85000.0</td>\n",
       "      <td>85000.0</td>\n",
       "    </tr>\n",
       "    <tr>\n",
       "      <th>24</th>\n",
       "      <td>107000.0</td>\n",
       "      <td>107000.0</td>\n",
       "    </tr>\n",
       "    <tr>\n",
       "      <th>25</th>\n",
       "      <td>66000.0</td>\n",
       "      <td>66000.0</td>\n",
       "    </tr>\n",
       "    <tr>\n",
       "      <th>26</th>\n",
       "      <td>76800.0</td>\n",
       "      <td>76800.0</td>\n",
       "    </tr>\n",
       "    <tr>\n",
       "      <th>27</th>\n",
       "      <td>50000.0</td>\n",
       "      <td>50000.0</td>\n",
       "    </tr>\n",
       "    <tr>\n",
       "      <th>28</th>\n",
       "      <td>800000.0</td>\n",
       "      <td>800000.0</td>\n",
       "    </tr>\n",
       "    <tr>\n",
       "      <th>29</th>\n",
       "      <td>75000.0</td>\n",
       "      <td>75000.0</td>\n",
       "    </tr>\n",
       "  </tbody>\n",
       "</table>\n",
       "</div>"
      ],
      "text/plain": [
       "    NormalizedAnnualCompensation  CompTotal\n",
       "0                        61000.0    61000.0\n",
       "1                       138000.0   138000.0\n",
       "2                        90000.0    90000.0\n",
       "3                       348000.0    29000.0\n",
       "4                        90000.0    90000.0\n",
       "5                       114000.0     9500.0\n",
       "6                        36000.0     3000.0\n",
       "7                       103000.0   103000.0\n",
       "8                        69000.0    69000.0\n",
       "9                        96000.0     8000.0\n",
       "10                       84000.0     7000.0\n",
       "11                      114000.0   114000.0\n",
       "12                      104000.0     2000.0\n",
       "13                     1144000.0    22000.0\n",
       "14                     1152000.0    96000.0\n",
       "15                      156000.0   156000.0\n",
       "16                       18000.0    18000.0\n",
       "17                       76800.0     6400.0\n",
       "18                       60000.0     5000.0\n",
       "19                      400000.0   400000.0\n",
       "20                       47300.0    47300.0\n",
       "21                      618000.0    51500.0\n",
       "22                      345000.0   345000.0\n",
       "23                       85000.0    85000.0\n",
       "24                      107000.0   107000.0\n",
       "25                       66000.0    66000.0\n",
       "26                       76800.0    76800.0\n",
       "27                       50000.0    50000.0\n",
       "28                      800000.0   800000.0\n",
       "29                       75000.0    75000.0"
      ]
     },
     "execution_count": 82,
     "metadata": {},
     "output_type": "execute_result"
    }
   ],
   "source": [
    "#Verifying if conversion happened correctly\n",
    "df1[['NormalizedAnnualCompensation','CompTotal']].head(30)"
   ]
  },
  {
   "cell_type": "markdown",
   "id": "bbe2aba9",
   "metadata": {},
   "source": [
    "* Dropping **CompFreq** and **CompTotal** columns"
   ]
  },
  {
   "cell_type": "code",
   "execution_count": 83,
   "id": "cdb02a7f",
   "metadata": {},
   "outputs": [],
   "source": [
    "df1.drop(['CompFreq', 'CompTotal'], axis=1, inplace=True)"
   ]
  },
  {
   "cell_type": "markdown",
   "id": "339e062a",
   "metadata": {},
   "source": [
    "## Determining how data is distributed"
   ]
  },
  {
   "cell_type": "markdown",
   "id": "4e544fca",
   "metadata": {},
   "source": [
    "Plotting distibition curve for ConvertedComp"
   ]
  },
  {
   "cell_type": "code",
   "execution_count": 84,
   "id": "7fc450c2",
   "metadata": {},
   "outputs": [
    {
     "data": {
      "text/plain": [
       "<Axes: ylabel='Density'>"
      ]
     },
     "execution_count": 84,
     "metadata": {},
     "output_type": "execute_result"
    },
    {
     "data": {
      "image/png": "[encoded data removed]",
      "text/plain": [
       "<Figure size 640x480 with 1 Axes>"
      ]
     },
     "metadata": {},
     "output_type": "display_data"
    }
   ],
   "source": [
    "df1['ConvertedComp'].plot(kind='kde')"
   ]
  },
  {
   "cell_type": "code",
   "execution_count": 85,
   "id": "f8c35cf2",
   "metadata": {},
   "outputs": [
    {
     "data": {
      "text/plain": [
       "<Axes: ylabel='Frequency'>"
      ]
     },
     "execution_count": 85,
     "metadata": {},
     "output_type": "execute_result"
    },
    {
     "data": {
      "image/png": "[encoded data removed]",
      "text/plain": [
       "<Figure size 640x480 with 1 Axes>"
      ]
     },
     "metadata": {},
     "output_type": "display_data"
    }
   ],
   "source": [
    "df1['ConvertedComp'].plot(kind='hist')"
   ]
  },
  {
   "cell_type": "code",
   "execution_count": 86,
   "id": "7dc5c09a",
   "metadata": {},
   "outputs": [
    {
     "data": {
      "text/plain": [
       "57745.0"
      ]
     },
     "execution_count": 86,
     "metadata": {},
     "output_type": "execute_result"
    }
   ],
   "source": [
    "df1['ConvertedComp'].median()"
   ]
  },
  {
   "cell_type": "code",
   "execution_count": 87,
   "id": "303b234f",
   "metadata": {},
   "outputs": [
    {
     "data": {
      "text/plain": [
       "57744.0"
      ]
     },
     "execution_count": 87,
     "metadata": {},
     "output_type": "execute_result"
    }
   ],
   "source": [
    "df2=df1[(df1['Gender'] == 'Man')]\n",
    "df2['ConvertedComp'].median()"
   ]
  },
  {
   "cell_type": "code",
   "execution_count": 88,
   "id": "f6bbe10d",
   "metadata": {},
   "outputs": [
    {
     "data": {
      "text/plain": [
       "57708.0"
      ]
     },
     "execution_count": 88,
     "metadata": {},
     "output_type": "execute_result"
    }
   ],
   "source": [
    "df2=df1[(df1['Gender'] == 'Woman')]\n",
    "df2['ConvertedComp'].median()"
   ]
  },
  {
   "cell_type": "markdown",
   "id": "e5869a1d",
   "metadata": {},
   "source": [
    "**Insights:** "
   ]
  },
  {
   "cell_type": "markdown",
   "id": "e8e1bcbe",
   "metadata": {},
   "source": [
    "Median annual compensation for man and woman combined is **$57745.0**\n"
   ]
  },
  {
   "cell_type": "markdown",
   "id": "517fd011",
   "metadata": {},
   "source": [
    "Median annual compensation for **man** is **$57744.0**\n"
   ]
  },
  {
   "cell_type": "markdown",
   "id": "9eaf34d9",
   "metadata": {},
   "source": [
    "Median annual compensation for **woman** is **$57708.0**"
   ]
  },
  {
   "cell_type": "markdown",
   "id": "3d92a725",
   "metadata": {},
   "source": [
    "* Five number summary for column age"
   ]
  },
  {
   "cell_type": "code",
   "execution_count": 89,
   "id": "841d869e",
   "metadata": {},
   "outputs": [
    {
     "data": {
      "text/html": [
       "<div>\n",
       "<style scoped>\n",
       "    .dataframe tbody tr th:only-of-type {\n",
       "        vertical-align: middle;\n",
       "    }\n",
       "\n",
       "    .dataframe tbody tr th {\n",
       "        vertical-align: top;\n",
       "    }\n",
       "\n",
       "    .dataframe thead th {\n",
       "        text-align: right;\n",
       "    }\n",
       "</style>\n",
       "<table border=\"1\" class=\"dataframe\">\n",
       "  <thead>\n",
       "    <tr style=\"text-align: right;\">\n",
       "      <th></th>\n",
       "      <th>Age</th>\n",
       "    </tr>\n",
       "  </thead>\n",
       "  <tbody>\n",
       "    <tr>\n",
       "      <th>count</th>\n",
       "      <td>10582.000000</td>\n",
       "    </tr>\n",
       "    <tr>\n",
       "      <th>mean</th>\n",
       "      <td>30.831874</td>\n",
       "    </tr>\n",
       "    <tr>\n",
       "      <th>std</th>\n",
       "      <td>7.309934</td>\n",
       "    </tr>\n",
       "    <tr>\n",
       "      <th>min</th>\n",
       "      <td>16.000000</td>\n",
       "    </tr>\n",
       "    <tr>\n",
       "      <th>25%</th>\n",
       "      <td>26.000000</td>\n",
       "    </tr>\n",
       "    <tr>\n",
       "      <th>50%</th>\n",
       "      <td>29.000000</td>\n",
       "    </tr>\n",
       "    <tr>\n",
       "      <th>75%</th>\n",
       "      <td>34.000000</td>\n",
       "    </tr>\n",
       "    <tr>\n",
       "      <th>max</th>\n",
       "      <td>99.000000</td>\n",
       "    </tr>\n",
       "  </tbody>\n",
       "</table>\n",
       "</div>"
      ],
      "text/plain": [
       "                Age\n",
       "count  10582.000000\n",
       "mean      30.831874\n",
       "std        7.309934\n",
       "min       16.000000\n",
       "25%       26.000000\n",
       "50%       29.000000\n",
       "75%       34.000000\n",
       "max       99.000000"
      ]
     },
     "execution_count": 89,
     "metadata": {},
     "output_type": "execute_result"
    }
   ],
   "source": [
    "df1['Age'].describe().to_frame()"
   ]
  },
  {
   "cell_type": "markdown",
   "id": "edecdd60",
   "metadata": {},
   "source": [
    "* Mean age is  **30.83 years**.\n",
    "* 75% of the respondents are below 34 years of age."
   ]
  },
  {
   "cell_type": "markdown",
   "id": "c4e23cca",
   "metadata": {},
   "source": [
    "## Finding Outliers"
   ]
  },
  {
   "cell_type": "markdown",
   "id": "a2dace10",
   "metadata": {},
   "source": [
    "Finding if outliers exist in ConvertedComp"
   ]
  },
  {
   "cell_type": "code",
   "execution_count": 90,
   "id": "77c4366a",
   "metadata": {},
   "outputs": [
    {
     "data": {
      "text/plain": [
       "<Axes: ylabel='ConvertedComp'>"
      ]
     },
     "execution_count": 90,
     "metadata": {},
     "output_type": "execute_result"
    },
    {
     "data": {
      "image/png": "[encoded data removed]",
      "text/plain": [
       "<Figure size 640x480 with 1 Axes>"
      ]
     },
     "metadata": {},
     "output_type": "display_data"
    }
   ],
   "source": [
    "sns.boxplot(y=\"ConvertedComp\", data=df)\n"
   ]
  },
  {
   "cell_type": "code",
   "execution_count": 91,
   "id": "3c91de34",
   "metadata": {},
   "outputs": [],
   "source": [
    "a=df1['ConvertedComp'].quantile(0.25)\n",
    "b=df1['ConvertedComp'].quantile(0.75)\n",
    "iqr=b-a\n",
    "upper_limit = b + 1.5 * iqr\n",
    "lower_limit = a - 1.5 * iqr\n",
    "new_df = df1[df1['ConvertedComp'] < upper_limit]\n",
    "new_df1 = new_df[new_df['ConvertedComp'] > lower_limit]\n"
   ]
  },
  {
   "cell_type": "code",
   "execution_count": 92,
   "id": "81425629",
   "metadata": {},
   "outputs": [
    {
     "data": {
      "text/plain": [
       "879"
      ]
     },
     "execution_count": 92,
     "metadata": {},
     "output_type": "execute_result"
    }
   ],
   "source": [
    "#Calculating number of outliers\n",
    "\n",
    "a1=df1[df1['ConvertedComp'] > upper_limit]\n",
    "len(a1)"
   ]
  },
  {
   "cell_type": "code",
   "execution_count": 93,
   "id": "20a913b4",
   "metadata": {},
   "outputs": [
    {
     "data": {
      "text/plain": [
       "0"
      ]
     },
     "execution_count": 93,
     "metadata": {},
     "output_type": "execute_result"
    }
   ],
   "source": [
    "a2=df1[df1['ConvertedComp'] < lower_limit]\n",
    "len(a2)"
   ]
  },
  {
   "cell_type": "code",
   "execution_count": 94,
   "id": "bdd05ceb",
   "metadata": {},
   "outputs": [
    {
     "data": {
      "text/plain": [
       "879"
      ]
     },
     "execution_count": 94,
     "metadata": {},
     "output_type": "execute_result"
    }
   ],
   "source": [
    "len(a1+a2)"
   ]
  },
  {
   "cell_type": "code",
   "execution_count": 95,
   "id": "b215b8cf",
   "metadata": {},
   "outputs": [
    {
     "data": {
      "text/plain": [
       "(9703, 77)"
      ]
     },
     "execution_count": 95,
     "metadata": {},
     "output_type": "execute_result"
    }
   ],
   "source": [
    "new_df.shape"
   ]
  },
  {
   "cell_type": "code",
   "execution_count": 96,
   "id": "9e87ce96",
   "metadata": {},
   "outputs": [
    {
     "data": {
      "text/plain": [
       "52704.0"
      ]
     },
     "execution_count": 96,
     "metadata": {},
     "output_type": "execute_result"
    }
   ],
   "source": [
    "new_df['ConvertedComp'].median()"
   ]
  },
  {
   "cell_type": "code",
   "execution_count": 97,
   "id": "1e83a615",
   "metadata": {},
   "outputs": [
    {
     "data": {
      "text/html": [
       "<div>\n",
       "<style scoped>\n",
       "    .dataframe tbody tr th:only-of-type {\n",
       "        vertical-align: middle;\n",
       "    }\n",
       "\n",
       "    .dataframe tbody tr th {\n",
       "        vertical-align: top;\n",
       "    }\n",
       "\n",
       "    .dataframe thead th {\n",
       "        text-align: right;\n",
       "    }\n",
       "</style>\n",
       "<table border=\"1\" class=\"dataframe\">\n",
       "  <thead>\n",
       "    <tr style=\"text-align: right;\">\n",
       "      <th></th>\n",
       "      <th>Respondent</th>\n",
       "      <th>MainBranch</th>\n",
       "      <th>Hobbyist</th>\n",
       "      <th>OpenSourcer</th>\n",
       "      <th>OpenSource</th>\n",
       "      <th>Employment</th>\n",
       "      <th>Country</th>\n",
       "      <th>Student</th>\n",
       "      <th>EdLevel</th>\n",
       "      <th>UndergradMajor</th>\n",
       "      <th>...</th>\n",
       "      <th>WelcomeChange</th>\n",
       "      <th>Age</th>\n",
       "      <th>Gender</th>\n",
       "      <th>Trans</th>\n",
       "      <th>Sexuality</th>\n",
       "      <th>Ethnicity</th>\n",
       "      <th>Dependents</th>\n",
       "      <th>SurveyLength</th>\n",
       "      <th>SurveyEase</th>\n",
       "      <th>NormalizedAnnualCompensation</th>\n",
       "    </tr>\n",
       "  </thead>\n",
       "  <tbody>\n",
       "    <tr>\n",
       "      <th>0</th>\n",
       "      <td>4</td>\n",
       "      <td>I am a developer by profession</td>\n",
       "      <td>No</td>\n",
       "      <td>Never</td>\n",
       "      <td>The quality of OSS and closed source software ...</td>\n",
       "      <td>Employed full-time</td>\n",
       "      <td>United States</td>\n",
       "      <td>No</td>\n",
       "      <td>Bachelor’s degree (BA, BS, B.Eng., etc.)</td>\n",
       "      <td>Computer science, computer engineering, or sof...</td>\n",
       "      <td>...</td>\n",
       "      <td>Just as welcome now as I felt last year</td>\n",
       "      <td>22.0</td>\n",
       "      <td>Man</td>\n",
       "      <td>No</td>\n",
       "      <td>Straight / Heterosexual</td>\n",
       "      <td>White or of European descent</td>\n",
       "      <td>No</td>\n",
       "      <td>Appropriate in length</td>\n",
       "      <td>Easy</td>\n",
       "      <td>61000.0</td>\n",
       "    </tr>\n",
       "    <tr>\n",
       "      <th>1</th>\n",
       "      <td>9</td>\n",
       "      <td>I am a developer by profession</td>\n",
       "      <td>Yes</td>\n",
       "      <td>Once a month or more often</td>\n",
       "      <td>The quality of OSS and closed source software ...</td>\n",
       "      <td>Employed full-time</td>\n",
       "      <td>New Zealand</td>\n",
       "      <td>No</td>\n",
       "      <td>Some college/university study without earning ...</td>\n",
       "      <td>Computer science, computer engineering, or sof...</td>\n",
       "      <td>...</td>\n",
       "      <td>Just as welcome now as I felt last year</td>\n",
       "      <td>23.0</td>\n",
       "      <td>Man</td>\n",
       "      <td>No</td>\n",
       "      <td>Bisexual</td>\n",
       "      <td>White or of European descent</td>\n",
       "      <td>No</td>\n",
       "      <td>Appropriate in length</td>\n",
       "      <td>Neither easy nor difficult</td>\n",
       "      <td>138000.0</td>\n",
       "    </tr>\n",
       "    <tr>\n",
       "      <th>2</th>\n",
       "      <td>13</td>\n",
       "      <td>I am a developer by profession</td>\n",
       "      <td>Yes</td>\n",
       "      <td>Less than once a month but more than once per ...</td>\n",
       "      <td>OSS is, on average, of HIGHER quality than pro...</td>\n",
       "      <td>Employed full-time</td>\n",
       "      <td>United States</td>\n",
       "      <td>No</td>\n",
       "      <td>Master’s degree (MA, MS, M.Eng., MBA, etc.)</td>\n",
       "      <td>Computer science, computer engineering, or sof...</td>\n",
       "      <td>...</td>\n",
       "      <td>Somewhat more welcome now than last year</td>\n",
       "      <td>28.0</td>\n",
       "      <td>Man</td>\n",
       "      <td>No</td>\n",
       "      <td>Straight / Heterosexual</td>\n",
       "      <td>White or of European descent</td>\n",
       "      <td>Yes</td>\n",
       "      <td>Appropriate in length</td>\n",
       "      <td>Easy</td>\n",
       "      <td>90000.0</td>\n",
       "    </tr>\n",
       "    <tr>\n",
       "      <th>4</th>\n",
       "      <td>17</td>\n",
       "      <td>I am a developer by profession</td>\n",
       "      <td>Yes</td>\n",
       "      <td>Less than once a month but more than once per ...</td>\n",
       "      <td>The quality of OSS and closed source software ...</td>\n",
       "      <td>Employed full-time</td>\n",
       "      <td>Australia</td>\n",
       "      <td>No</td>\n",
       "      <td>Bachelor’s degree (BA, BS, B.Eng., etc.)</td>\n",
       "      <td>Computer science, computer engineering, or sof...</td>\n",
       "      <td>...</td>\n",
       "      <td>Just as welcome now as I felt last year</td>\n",
       "      <td>29.0</td>\n",
       "      <td>Man</td>\n",
       "      <td>No</td>\n",
       "      <td>Straight / Heterosexual</td>\n",
       "      <td>Hispanic or Latino/Latina;Multiracial</td>\n",
       "      <td>No</td>\n",
       "      <td>Appropriate in length</td>\n",
       "      <td>Easy</td>\n",
       "      <td>90000.0</td>\n",
       "    </tr>\n",
       "    <tr>\n",
       "      <th>5</th>\n",
       "      <td>19</td>\n",
       "      <td>I am a developer by profession</td>\n",
       "      <td>Yes</td>\n",
       "      <td>Never</td>\n",
       "      <td>The quality of OSS and closed source software ...</td>\n",
       "      <td>Employed full-time</td>\n",
       "      <td>Brazil</td>\n",
       "      <td>No</td>\n",
       "      <td>Some college/university study without earning ...</td>\n",
       "      <td>Computer science, computer engineering, or sof...</td>\n",
       "      <td>...</td>\n",
       "      <td>Just as welcome now as I felt last year</td>\n",
       "      <td>31.0</td>\n",
       "      <td>Man</td>\n",
       "      <td>No</td>\n",
       "      <td>Straight / Heterosexual</td>\n",
       "      <td>Hispanic or Latino/Latina</td>\n",
       "      <td>Yes</td>\n",
       "      <td>Too long</td>\n",
       "      <td>Easy</td>\n",
       "      <td>114000.0</td>\n",
       "    </tr>\n",
       "  </tbody>\n",
       "</table>\n",
       "<p>5 rows × 77 columns</p>\n",
       "</div>"
      ],
      "text/plain": [
       "   Respondent                      MainBranch Hobbyist  \\\n",
       "0           4  I am a developer by profession       No   \n",
       "1           9  I am a developer by profession      Yes   \n",
       "2          13  I am a developer by profession      Yes   \n",
       "4          17  I am a developer by profession      Yes   \n",
       "5          19  I am a developer by profession      Yes   \n",
       "\n",
       "                                         OpenSourcer  \\\n",
       "0                                              Never   \n",
       "1                         Once a month or more often   \n",
       "2  Less than once a month but more than once per ...   \n",
       "4  Less than once a month but more than once per ...   \n",
       "5                                              Never   \n",
       "\n",
       "                                          OpenSource          Employment  \\\n",
       "0  The quality of OSS and closed source software ...  Employed full-time   \n",
       "1  The quality of OSS and closed source software ...  Employed full-time   \n",
       "2  OSS is, on average, of HIGHER quality than pro...  Employed full-time   \n",
       "4  The quality of OSS and closed source software ...  Employed full-time   \n",
       "5  The quality of OSS and closed source software ...  Employed full-time   \n",
       "\n",
       "         Country Student                                            EdLevel  \\\n",
       "0  United States      No           Bachelor’s degree (BA, BS, B.Eng., etc.)   \n",
       "1    New Zealand      No  Some college/university study without earning ...   \n",
       "2  United States      No        Master’s degree (MA, MS, M.Eng., MBA, etc.)   \n",
       "4      Australia      No           Bachelor’s degree (BA, BS, B.Eng., etc.)   \n",
       "5         Brazil      No  Some college/university study without earning ...   \n",
       "\n",
       "                                      UndergradMajor  ...  \\\n",
       "0  Computer science, computer engineering, or sof...  ...   \n",
       "1  Computer science, computer engineering, or sof...  ...   \n",
       "2  Computer science, computer engineering, or sof...  ...   \n",
       "4  Computer science, computer engineering, or sof...  ...   \n",
       "5  Computer science, computer engineering, or sof...  ...   \n",
       "\n",
       "                              WelcomeChange   Age Gender Trans  \\\n",
       "0   Just as welcome now as I felt last year  22.0    Man    No   \n",
       "1   Just as welcome now as I felt last year  23.0    Man    No   \n",
       "2  Somewhat more welcome now than last year  28.0    Man    No   \n",
       "4   Just as welcome now as I felt last year  29.0    Man    No   \n",
       "5   Just as welcome now as I felt last year  31.0    Man    No   \n",
       "\n",
       "                 Sexuality                              Ethnicity Dependents  \\\n",
       "0  Straight / Heterosexual           White or of European descent         No   \n",
       "1                 Bisexual           White or of European descent         No   \n",
       "2  Straight / Heterosexual           White or of European descent        Yes   \n",
       "4  Straight / Heterosexual  Hispanic or Latino/Latina;Multiracial         No   \n",
       "5  Straight / Heterosexual              Hispanic or Latino/Latina        Yes   \n",
       "\n",
       "            SurveyLength                  SurveyEase  \\\n",
       "0  Appropriate in length                        Easy   \n",
       "1  Appropriate in length  Neither easy nor difficult   \n",
       "2  Appropriate in length                        Easy   \n",
       "4  Appropriate in length                        Easy   \n",
       "5               Too long                        Easy   \n",
       "\n",
       "  NormalizedAnnualCompensation  \n",
       "0                      61000.0  \n",
       "1                     138000.0  \n",
       "2                      90000.0  \n",
       "4                      90000.0  \n",
       "5                     114000.0  \n",
       "\n",
       "[5 rows x 77 columns]"
      ]
     },
     "execution_count": 97,
     "metadata": {},
     "output_type": "execute_result"
    }
   ],
   "source": [
    "new_df.head()"
   ]
  },
  {
   "cell_type": "markdown",
   "id": "424ee22a",
   "metadata": {},
   "source": [
    "## Finding correlation"
   ]
  },
  {
   "cell_type": "code",
   "execution_count": 98,
   "id": "78b5e1f7",
   "metadata": {},
   "outputs": [
    {
     "name": "stderr",
     "output_type": "stream",
     "text": [
      "C:\\Users\\neera\\AppData\\Local\\Temp\\ipykernel_6084\\4065070317.py:1: FutureWarning: The default value of numeric_only in DataFrame.corr is deprecated. In a future version, it will default to False. Select only valid columns or specify the value of numeric_only to silence this warning.\n",
      "  new_df.corr()\n"
     ]
    },
    {
     "data": {
      "text/html": [
       "<div>\n",
       "<style scoped>\n",
       "    .dataframe tbody tr th:only-of-type {\n",
       "        vertical-align: middle;\n",
       "    }\n",
       "\n",
       "    .dataframe tbody tr th {\n",
       "        vertical-align: top;\n",
       "    }\n",
       "\n",
       "    .dataframe thead th {\n",
       "        text-align: right;\n",
       "    }\n",
       "</style>\n",
       "<table border=\"1\" class=\"dataframe\">\n",
       "  <thead>\n",
       "    <tr style=\"text-align: right;\">\n",
       "      <th></th>\n",
       "      <th>Respondent</th>\n",
       "      <th>ConvertedComp</th>\n",
       "      <th>WorkWeekHrs</th>\n",
       "      <th>Age</th>\n",
       "      <th>NormalizedAnnualCompensation</th>\n",
       "    </tr>\n",
       "  </thead>\n",
       "  <tbody>\n",
       "    <tr>\n",
       "      <th>Respondent</th>\n",
       "      <td>1.000000</td>\n",
       "      <td>0.010878</td>\n",
       "      <td>-0.010301</td>\n",
       "      <td>0.002130</td>\n",
       "      <td>0.001313</td>\n",
       "    </tr>\n",
       "    <tr>\n",
       "      <th>ConvertedComp</th>\n",
       "      <td>0.010878</td>\n",
       "      <td>1.000000</td>\n",
       "      <td>-0.030406</td>\n",
       "      <td>0.396936</td>\n",
       "      <td>-0.086286</td>\n",
       "    </tr>\n",
       "    <tr>\n",
       "      <th>WorkWeekHrs</th>\n",
       "      <td>-0.010301</td>\n",
       "      <td>-0.030406</td>\n",
       "      <td>1.000000</td>\n",
       "      <td>-0.000424</td>\n",
       "      <td>0.005601</td>\n",
       "    </tr>\n",
       "    <tr>\n",
       "      <th>Age</th>\n",
       "      <td>0.002130</td>\n",
       "      <td>0.396936</td>\n",
       "      <td>-0.000424</td>\n",
       "      <td>1.000000</td>\n",
       "      <td>-0.016280</td>\n",
       "    </tr>\n",
       "    <tr>\n",
       "      <th>NormalizedAnnualCompensation</th>\n",
       "      <td>0.001313</td>\n",
       "      <td>-0.086286</td>\n",
       "      <td>0.005601</td>\n",
       "      <td>-0.016280</td>\n",
       "      <td>1.000000</td>\n",
       "    </tr>\n",
       "  </tbody>\n",
       "</table>\n",
       "</div>"
      ],
      "text/plain": [
       "                              Respondent  ConvertedComp  WorkWeekHrs  \\\n",
       "Respondent                      1.000000       0.010878    -0.010301   \n",
       "ConvertedComp                   0.010878       1.000000    -0.030406   \n",
       "WorkWeekHrs                    -0.010301      -0.030406     1.000000   \n",
       "Age                             0.002130       0.396936    -0.000424   \n",
       "NormalizedAnnualCompensation    0.001313      -0.086286     0.005601   \n",
       "\n",
       "                                   Age  NormalizedAnnualCompensation  \n",
       "Respondent                    0.002130                      0.001313  \n",
       "ConvertedComp                 0.396936                     -0.086286  \n",
       "WorkWeekHrs                  -0.000424                      0.005601  \n",
       "Age                           1.000000                     -0.016280  \n",
       "NormalizedAnnualCompensation -0.016280                      1.000000  "
      ]
     },
     "execution_count": 98,
     "metadata": {},
     "output_type": "execute_result"
    }
   ],
   "source": [
    "new_df.corr()"
   ]
  },
  {
   "cell_type": "markdown",
   "id": "3b37a832",
   "metadata": {},
   "source": [
    "**Insight:** We can see that compensation increases with age."
   ]
  },
  {
   "cell_type": "code",
   "execution_count": 99,
   "id": "e64cd185",
   "metadata": {},
   "outputs": [],
   "source": [
    "new_df.to_csv(r\"C:\\Users\\neera\\Desktop\\StackoverflowEDA.csv\", index=False)"
   ]
  },
  {
   "cell_type": "code",
   "execution_count": null,
   "id": "dc0f2bf1",
   "metadata": {},
   "outputs": [],
   "source": []
  }
 ],
 "metadata": {
  "kernelspec": {
   "display_name": "Python 3 (ipykernel)",
   "language": "python",
   "name": "python3"
  },
  "language_info": {
   "codemirror_mode": {
    "name": "ipython",
    "version": 3
   },
   "file_extension": ".py",
   "mimetype": "text/x-python",
   "name": "python",
   "nbconvert_exporter": "python",
   "pygments_lexer": "ipython3",
   "version": "3.11.2"
  }
 },
 "nbformat": 4,
 "nbformat_minor": 5
}
